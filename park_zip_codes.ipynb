{
 "cells": [
  {
   "cell_type": "markdown",
   "metadata": {},
   "source": [
    "# Do Zip Codes with Large Parks have Higher Dog Density than those without? Are the dog and cat populations different ages? \n",
    "## Hypothesis Testing Reminder/Primer with Python's Stats Package, and other things you never thought to ask about registered pets in Seattle"
   ]
  },
  {
   "cell_type": "markdown",
   "metadata": {},
   "source": [
    "## Import necessary packages"
   ]
  },
  {
   "cell_type": "code",
   "execution_count": 261,
   "metadata": {},
   "outputs": [],
   "source": [
    "import geopandas as gpd\n",
    "import pandas as pd\n",
    "from matplotlib import pyplot as plt\n",
    "import numpy as np\n",
    "%matplotlib inline"
   ]
  },
  {
   "cell_type": "markdown",
   "metadata": {},
   "source": [
    "## Load data from csv\n",
    "\n",
    "Note: seattle_zip_code_pet_density.csv is generated in this[https://github.com/allisonhonold/geospatial_data_blog/blob/master/geospatial_blog.ipynb] jupyter notebook. See below for the conversion from string to shapely geometry"
   ]
  },
  {
   "cell_type": "code",
   "execution_count": 262,
   "metadata": {},
   "outputs": [],
   "source": [
    "pets_zips = pd.read_csv('data/seattle_zip_code_pet_density.csv')\n",
    "pets = pd.read_csv('data/Seattle_Pet_Licenses.csv')"
   ]
  },
  {
   "cell_type": "code",
   "execution_count": 263,
   "metadata": {},
   "outputs": [
    {
     "data": {
      "text/html": [
       "<div>\n",
       "<style scoped>\n",
       "    .dataframe tbody tr th:only-of-type {\n",
       "        vertical-align: middle;\n",
       "    }\n",
       "\n",
       "    .dataframe tbody tr th {\n",
       "        vertical-align: top;\n",
       "    }\n",
       "\n",
       "    .dataframe thead th {\n",
       "        text-align: right;\n",
       "    }\n",
       "</style>\n",
       "<table border=\"1\" class=\"dataframe\">\n",
       "  <thead>\n",
       "    <tr style=\"text-align: right;\">\n",
       "      <th></th>\n",
       "      <th>Unnamed: 0</th>\n",
       "      <th>ZIP</th>\n",
       "      <th>geometry</th>\n",
       "      <th>area</th>\n",
       "      <th>pets</th>\n",
       "      <th>pet_density</th>\n",
       "    </tr>\n",
       "  </thead>\n",
       "  <tbody>\n",
       "    <tr>\n",
       "      <th>0</th>\n",
       "      <td>0</td>\n",
       "      <td>98101</td>\n",
       "      <td>POLYGON ((-122.3278536012117 47.61849675280555...</td>\n",
       "      <td>0.000163</td>\n",
       "      <td>696</td>\n",
       "      <td>4.259932e+06</td>\n",
       "    </tr>\n",
       "    <tr>\n",
       "      <th>1</th>\n",
       "      <td>1</td>\n",
       "      <td>98102</td>\n",
       "      <td>POLYGON ((-122.3123241071172 47.64705007992422...</td>\n",
       "      <td>0.000481</td>\n",
       "      <td>1640</td>\n",
       "      <td>3.412311e+06</td>\n",
       "    </tr>\n",
       "    <tr>\n",
       "      <th>2</th>\n",
       "      <td>2</td>\n",
       "      <td>98112</td>\n",
       "      <td>MULTIPOLYGON (((-122.3068257351625 47.64729480...</td>\n",
       "      <td>0.000981</td>\n",
       "      <td>1895</td>\n",
       "      <td>1.932635e+06</td>\n",
       "    </tr>\n",
       "    <tr>\n",
       "      <th>3</th>\n",
       "      <td>3</td>\n",
       "      <td>98115</td>\n",
       "      <td>POLYGON ((-122.2729415289972 47.70106980982185...</td>\n",
       "      <td>0.002019</td>\n",
       "      <td>4541</td>\n",
       "      <td>2.249664e+06</td>\n",
       "    </tr>\n",
       "    <tr>\n",
       "      <th>4</th>\n",
       "      <td>4</td>\n",
       "      <td>98116</td>\n",
       "      <td>POLYGON ((-122.381388745373 47.59054151926219,...</td>\n",
       "      <td>0.000905</td>\n",
       "      <td>2366</td>\n",
       "      <td>2.615165e+06</td>\n",
       "    </tr>\n",
       "  </tbody>\n",
       "</table>\n",
       "</div>"
      ],
      "text/plain": [
       "   Unnamed: 0    ZIP                                           geometry  \\\n",
       "0           0  98101  POLYGON ((-122.3278536012117 47.61849675280555...   \n",
       "1           1  98102  POLYGON ((-122.3123241071172 47.64705007992422...   \n",
       "2           2  98112  MULTIPOLYGON (((-122.3068257351625 47.64729480...   \n",
       "3           3  98115  POLYGON ((-122.2729415289972 47.70106980982185...   \n",
       "4           4  98116  POLYGON ((-122.381388745373 47.59054151926219,...   \n",
       "\n",
       "       area  pets   pet_density  \n",
       "0  0.000163   696  4.259932e+06  \n",
       "1  0.000481  1640  3.412311e+06  \n",
       "2  0.000981  1895  1.932635e+06  \n",
       "3  0.002019  4541  2.249664e+06  \n",
       "4  0.000905  2366  2.615165e+06  "
      ]
     },
     "execution_count": 263,
     "metadata": {},
     "output_type": "execute_result"
    }
   ],
   "source": [
    "pets_zips.head()"
   ]
  },
  {
   "cell_type": "code",
   "execution_count": 264,
   "metadata": {},
   "outputs": [
    {
     "data": {
      "text/html": [
       "<div>\n",
       "<style scoped>\n",
       "    .dataframe tbody tr th:only-of-type {\n",
       "        vertical-align: middle;\n",
       "    }\n",
       "\n",
       "    .dataframe tbody tr th {\n",
       "        vertical-align: top;\n",
       "    }\n",
       "\n",
       "    .dataframe thead th {\n",
       "        text-align: right;\n",
       "    }\n",
       "</style>\n",
       "<table border=\"1\" class=\"dataframe\">\n",
       "  <thead>\n",
       "    <tr style=\"text-align: right;\">\n",
       "      <th></th>\n",
       "      <th>License Issue Date</th>\n",
       "      <th>License Number</th>\n",
       "      <th>Animal's Name</th>\n",
       "      <th>Species</th>\n",
       "      <th>Primary Breed</th>\n",
       "      <th>Secondary Breed</th>\n",
       "      <th>ZIP Code</th>\n",
       "    </tr>\n",
       "  </thead>\n",
       "  <tbody>\n",
       "    <tr>\n",
       "      <th>0</th>\n",
       "      <td>April 19 2003</td>\n",
       "      <td>200097</td>\n",
       "      <td>Tinkerdelle</td>\n",
       "      <td>Cat</td>\n",
       "      <td>Domestic Shorthair</td>\n",
       "      <td>NaN</td>\n",
       "      <td>98116</td>\n",
       "    </tr>\n",
       "    <tr>\n",
       "      <th>1</th>\n",
       "      <td>February 07 2006</td>\n",
       "      <td>75432</td>\n",
       "      <td>Pepper</td>\n",
       "      <td>Cat</td>\n",
       "      <td>Manx</td>\n",
       "      <td>Mix</td>\n",
       "      <td>98103</td>\n",
       "    </tr>\n",
       "    <tr>\n",
       "      <th>2</th>\n",
       "      <td>May 21 2014</td>\n",
       "      <td>727943</td>\n",
       "      <td>Ashley</td>\n",
       "      <td>Cat</td>\n",
       "      <td>Domestic Shorthair</td>\n",
       "      <td>NaN</td>\n",
       "      <td>98115</td>\n",
       "    </tr>\n",
       "    <tr>\n",
       "      <th>3</th>\n",
       "      <td>May 08 2015</td>\n",
       "      <td>833836</td>\n",
       "      <td>Lulu</td>\n",
       "      <td>Cat</td>\n",
       "      <td>LaPerm</td>\n",
       "      <td>NaN</td>\n",
       "      <td>98136</td>\n",
       "    </tr>\n",
       "    <tr>\n",
       "      <th>4</th>\n",
       "      <td>May 13 2015</td>\n",
       "      <td>361031</td>\n",
       "      <td>My Boy</td>\n",
       "      <td>Cat</td>\n",
       "      <td>Russian Blue</td>\n",
       "      <td>NaN</td>\n",
       "      <td>98121</td>\n",
       "    </tr>\n",
       "  </tbody>\n",
       "</table>\n",
       "</div>"
      ],
      "text/plain": [
       "  License Issue Date License Number Animal's Name Species       Primary Breed  \\\n",
       "0      April 19 2003         200097   Tinkerdelle     Cat  Domestic Shorthair   \n",
       "1   February 07 2006          75432        Pepper     Cat                Manx   \n",
       "2        May 21 2014         727943        Ashley     Cat  Domestic Shorthair   \n",
       "3        May 08 2015         833836          Lulu     Cat              LaPerm   \n",
       "4        May 13 2015         361031        My Boy     Cat        Russian Blue   \n",
       "\n",
       "  Secondary Breed ZIP Code  \n",
       "0             NaN    98116  \n",
       "1             Mix    98103  \n",
       "2             NaN    98115  \n",
       "3             NaN    98136  \n",
       "4             NaN    98121  "
      ]
     },
     "execution_count": 264,
     "metadata": {},
     "output_type": "execute_result"
    }
   ],
   "source": [
    "pets.head()"
   ]
  },
  {
   "cell_type": "markdown",
   "metadata": {},
   "source": [
    "## Import Shape Files for Seattle Parks"
   ]
  },
  {
   "cell_type": "code",
   "execution_count": 265,
   "metadata": {},
   "outputs": [],
   "source": [
    "parks_gdf = gpd.read_file('data/shapes/Seattle_Parks.shp')"
   ]
  },
  {
   "cell_type": "code",
   "execution_count": 266,
   "metadata": {},
   "outputs": [
    {
     "data": {
      "text/html": [
       "<div>\n",
       "<style scoped>\n",
       "    .dataframe tbody tr th:only-of-type {\n",
       "        vertical-align: middle;\n",
       "    }\n",
       "\n",
       "    .dataframe tbody tr th {\n",
       "        vertical-align: top;\n",
       "    }\n",
       "\n",
       "    .dataframe thead th {\n",
       "        text-align: right;\n",
       "    }\n",
       "</style>\n",
       "<table border=\"1\" class=\"dataframe\">\n",
       "  <thead>\n",
       "    <tr style=\"text-align: right;\">\n",
       "      <th></th>\n",
       "      <th>OBJECTID</th>\n",
       "      <th>NAME</th>\n",
       "      <th>PMA_NAME</th>\n",
       "      <th>ADDRESS</th>\n",
       "      <th>PIN</th>\n",
       "      <th>SUBPARCEL</th>\n",
       "      <th>PMA</th>\n",
       "      <th>OWNER</th>\n",
       "      <th>LEASE</th>\n",
       "      <th>MAINT</th>\n",
       "      <th>USE</th>\n",
       "      <th>ACQ_DATE</th>\n",
       "      <th>NAMEFLAG</th>\n",
       "      <th>SE_ANNO_CA</th>\n",
       "      <th>REVIEW_DAT</th>\n",
       "      <th>AMWOID</th>\n",
       "      <th>GIS_EDT_DT</th>\n",
       "      <th>SHAPE_Leng</th>\n",
       "      <th>SHAPE_Area</th>\n",
       "      <th>geometry</th>\n",
       "    </tr>\n",
       "  </thead>\n",
       "  <tbody>\n",
       "    <tr>\n",
       "      <th>0</th>\n",
       "      <td>1</td>\n",
       "      <td>JACKSON PARK GOLF COURSE</td>\n",
       "      <td>Jackson Park Golf Course</td>\n",
       "      <td>None</td>\n",
       "      <td>5101407870</td>\n",
       "      <td>636.0</td>\n",
       "      <td>327</td>\n",
       "      <td>DPR</td>\n",
       "      <td>N</td>\n",
       "      <td>DPR</td>\n",
       "      <td>GF</td>\n",
       "      <td>2099-01-01T00:00:00.000Z</td>\n",
       "      <td>5.0</td>\n",
       "      <td>None</td>\n",
       "      <td>1899-12-30T00:00:00.000Z</td>\n",
       "      <td>PROPERTY-JGOLF</td>\n",
       "      <td>2016-06-09T16:23:26.000Z</td>\n",
       "      <td>10475.262003</td>\n",
       "      <td>5.778501e+06</td>\n",
       "      <td>POLYGON ((-122.32336 47.73397, -122.32300 47.7...</td>\n",
       "    </tr>\n",
       "    <tr>\n",
       "      <th>1</th>\n",
       "      <td>2</td>\n",
       "      <td>BURKE-GILMAN TRAIL</td>\n",
       "      <td>Burke-Gilman Trail</td>\n",
       "      <td>None</td>\n",
       "      <td>2226049009</td>\n",
       "      <td>675.0</td>\n",
       "      <td>476</td>\n",
       "      <td>DPR</td>\n",
       "      <td>N</td>\n",
       "      <td>DPR</td>\n",
       "      <td>TR</td>\n",
       "      <td>2099-01-01T00:00:00.000Z</td>\n",
       "      <td>9.0</td>\n",
       "      <td>None</td>\n",
       "      <td>1899-12-30T00:00:00.000Z</td>\n",
       "      <td>PROPERTY-BGTR</td>\n",
       "      <td>2016-06-09T16:23:26.000Z</td>\n",
       "      <td>6043.377984</td>\n",
       "      <td>1.484822e+05</td>\n",
       "      <td>POLYGON ((-122.28477 47.73374, -122.28467 47.7...</td>\n",
       "    </tr>\n",
       "    <tr>\n",
       "      <th>2</th>\n",
       "      <td>3</td>\n",
       "      <td>LITTLE BROOK PARK</td>\n",
       "      <td>Little Brook Park</td>\n",
       "      <td>None</td>\n",
       "      <td>7663700850</td>\n",
       "      <td>1663.0</td>\n",
       "      <td>297</td>\n",
       "      <td>DPR</td>\n",
       "      <td>N</td>\n",
       "      <td>DPR</td>\n",
       "      <td>PK</td>\n",
       "      <td>1994-12-06T00:00:00.000Z</td>\n",
       "      <td>2.0</td>\n",
       "      <td>None</td>\n",
       "      <td>2004-05-26T00:00:00.000Z</td>\n",
       "      <td>PROPERTY-LIBRPK</td>\n",
       "      <td>2016-06-09T16:23:26.000Z</td>\n",
       "      <td>867.560578</td>\n",
       "      <td>3.860706e+04</td>\n",
       "      <td>POLYGON ((-122.29519 47.73156, -122.29511 47.7...</td>\n",
       "    </tr>\n",
       "    <tr>\n",
       "      <th>3</th>\n",
       "      <td>4</td>\n",
       "      <td>HELENE MADISON POOL</td>\n",
       "      <td>Helene Madison Pool</td>\n",
       "      <td>None</td>\n",
       "      <td>1926049035</td>\n",
       "      <td>525.0</td>\n",
       "      <td>285</td>\n",
       "      <td>None</td>\n",
       "      <td>None</td>\n",
       "      <td>DPR</td>\n",
       "      <td>PL</td>\n",
       "      <td>2099-01-01T00:00:00.000Z</td>\n",
       "      <td>2.0</td>\n",
       "      <td>None</td>\n",
       "      <td>1899-12-30T00:00:00.000Z</td>\n",
       "      <td>PROPERTY-MADPLGR</td>\n",
       "      <td>2016-06-09T16:23:26.000Z</td>\n",
       "      <td>1815.443199</td>\n",
       "      <td>1.833490e+05</td>\n",
       "      <td>POLYGON ((-122.33556 47.72677, -122.33432 47.7...</td>\n",
       "    </tr>\n",
       "    <tr>\n",
       "      <th>4</th>\n",
       "      <td>5</td>\n",
       "      <td>MAGNOLIA BOULEVARD</td>\n",
       "      <td>Magnolia Boulevard</td>\n",
       "      <td>None</td>\n",
       "      <td>2225039999</td>\n",
       "      <td>674.0</td>\n",
       "      <td>2843</td>\n",
       "      <td>DPR</td>\n",
       "      <td>None</td>\n",
       "      <td>DPR</td>\n",
       "      <td>BV</td>\n",
       "      <td>2099-01-01T00:00:00.000Z</td>\n",
       "      <td>9.0</td>\n",
       "      <td>None</td>\n",
       "      <td>1899-12-30T00:00:00.000Z</td>\n",
       "      <td>PROPERTY-MGLBL</td>\n",
       "      <td>2016-06-09T16:23:26.000Z</td>\n",
       "      <td>5879.161653</td>\n",
       "      <td>3.602566e+05</td>\n",
       "      <td>POLYGON ((-122.41446 47.64678, -122.41433 47.6...</td>\n",
       "    </tr>\n",
       "  </tbody>\n",
       "</table>\n",
       "</div>"
      ],
      "text/plain": [
       "   OBJECTID                      NAME                  PMA_NAME ADDRESS  \\\n",
       "0         1  JACKSON PARK GOLF COURSE  Jackson Park Golf Course    None   \n",
       "1         2        BURKE-GILMAN TRAIL        Burke-Gilman Trail    None   \n",
       "2         3         LITTLE BROOK PARK         Little Brook Park    None   \n",
       "3         4       HELENE MADISON POOL       Helene Madison Pool    None   \n",
       "4         5        MAGNOLIA BOULEVARD        Magnolia Boulevard    None   \n",
       "\n",
       "          PIN  SUBPARCEL   PMA OWNER LEASE MAINT USE  \\\n",
       "0  5101407870      636.0   327   DPR     N   DPR  GF   \n",
       "1  2226049009      675.0   476   DPR     N   DPR  TR   \n",
       "2  7663700850     1663.0   297   DPR     N   DPR  PK   \n",
       "3  1926049035      525.0   285  None  None   DPR  PL   \n",
       "4  2225039999      674.0  2843   DPR  None   DPR  BV   \n",
       "\n",
       "                   ACQ_DATE  NAMEFLAG SE_ANNO_CA                REVIEW_DAT  \\\n",
       "0  2099-01-01T00:00:00.000Z       5.0       None  1899-12-30T00:00:00.000Z   \n",
       "1  2099-01-01T00:00:00.000Z       9.0       None  1899-12-30T00:00:00.000Z   \n",
       "2  1994-12-06T00:00:00.000Z       2.0       None  2004-05-26T00:00:00.000Z   \n",
       "3  2099-01-01T00:00:00.000Z       2.0       None  1899-12-30T00:00:00.000Z   \n",
       "4  2099-01-01T00:00:00.000Z       9.0       None  1899-12-30T00:00:00.000Z   \n",
       "\n",
       "             AMWOID                GIS_EDT_DT    SHAPE_Leng    SHAPE_Area  \\\n",
       "0    PROPERTY-JGOLF  2016-06-09T16:23:26.000Z  10475.262003  5.778501e+06   \n",
       "1     PROPERTY-BGTR  2016-06-09T16:23:26.000Z   6043.377984  1.484822e+05   \n",
       "2   PROPERTY-LIBRPK  2016-06-09T16:23:26.000Z    867.560578  3.860706e+04   \n",
       "3  PROPERTY-MADPLGR  2016-06-09T16:23:26.000Z   1815.443199  1.833490e+05   \n",
       "4    PROPERTY-MGLBL  2016-06-09T16:23:26.000Z   5879.161653  3.602566e+05   \n",
       "\n",
       "                                            geometry  \n",
       "0  POLYGON ((-122.32336 47.73397, -122.32300 47.7...  \n",
       "1  POLYGON ((-122.28477 47.73374, -122.28467 47.7...  \n",
       "2  POLYGON ((-122.29519 47.73156, -122.29511 47.7...  \n",
       "3  POLYGON ((-122.33556 47.72677, -122.33432 47.7...  \n",
       "4  POLYGON ((-122.41446 47.64678, -122.41433 47.6...  "
      ]
     },
     "execution_count": 266,
     "metadata": {},
     "output_type": "execute_result"
    }
   ],
   "source": [
    "parks_gdf.head()"
   ]
  },
  {
   "cell_type": "code",
   "execution_count": 267,
   "metadata": {},
   "outputs": [
    {
     "data": {
      "text/plain": [
       "<matplotlib.axes._subplots.AxesSubplot at 0x1225e02e8>"
      ]
     },
     "execution_count": 267,
     "metadata": {},
     "output_type": "execute_result"
    },
    {
     "data": {
      "image/png": "[encoded data removed]",
      "text/plain": [
       "<Figure size 432x288 with 1 Axes>"
      ]
     },
     "metadata": {
      "needs_background": "light"
     },
     "output_type": "display_data"
    }
   ],
   "source": [
    "parks_gdf.plot()"
   ]
  },
  {
   "cell_type": "markdown",
   "metadata": {},
   "source": [
    "## Convert Zip Code geometry from string to shapely / geopandas"
   ]
  },
  {
   "cell_type": "code",
   "execution_count": 268,
   "metadata": {},
   "outputs": [],
   "source": [
    "from shapely import wkt\n",
    "pets_zips['geometry'] = pets_zips['geometry'].apply(wkt.loads)\n",
    "pets_zips_gdf = gpd.GeoDataFrame(pets_zips, geometry='geometry')"
   ]
  },
  {
   "cell_type": "code",
   "execution_count": 269,
   "metadata": {},
   "outputs": [
    {
     "data": {
      "text/plain": [
       "<matplotlib.axes._subplots.AxesSubplot at 0x121c3ac50>"
      ]
     },
     "execution_count": 269,
     "metadata": {},
     "output_type": "execute_result"
    },
    {
     "data": {
      "image/png": "[encoded data removed]",
      "text/plain": [
       "<Figure size 432x288 with 1 Axes>"
      ]
     },
     "metadata": {
      "needs_background": "light"
     },
     "output_type": "display_data"
    }
   ],
   "source": [
    "pets_zips_gdf.plot(column='pet_density')"
   ]
  },
  {
   "cell_type": "markdown",
   "metadata": {},
   "source": [
    "## Classify Parks into Zip Codes"
   ]
  },
  {
   "cell_type": "code",
   "execution_count": 270,
   "metadata": {},
   "outputs": [],
   "source": [
    "for zip_code in pets_zips_gdf['ZIP']:\n",
    "    # get the geometry of the zipcode\n",
    "    zip_code_geometry = pets_zips_gdf.loc[pets_zips['ZIP'] == zip_code, 'geometry']\n",
    "    zip_code_geometry = zip_code_geometry.reset_index(drop=True)\n",
    "    \n",
    "    # check if each park is in the zipcode, store result\n",
    "    parks_gdf[str(zip_code)] = parks_gdf.intersects(zip_code_geometry[0])"
   ]
  },
  {
   "cell_type": "code",
   "execution_count": 271,
   "metadata": {},
   "outputs": [
    {
     "data": {
      "text/html": [
       "<div>\n",
       "<style scoped>\n",
       "    .dataframe tbody tr th:only-of-type {\n",
       "        vertical-align: middle;\n",
       "    }\n",
       "\n",
       "    .dataframe tbody tr th {\n",
       "        vertical-align: top;\n",
       "    }\n",
       "\n",
       "    .dataframe thead th {\n",
       "        text-align: right;\n",
       "    }\n",
       "</style>\n",
       "<table border=\"1\" class=\"dataframe\">\n",
       "  <thead>\n",
       "    <tr style=\"text-align: right;\">\n",
       "      <th></th>\n",
       "      <th>0</th>\n",
       "    </tr>\n",
       "  </thead>\n",
       "  <tbody>\n",
       "    <tr>\n",
       "      <th>OBJECTID</th>\n",
       "      <td>1</td>\n",
       "    </tr>\n",
       "    <tr>\n",
       "      <th>NAME</th>\n",
       "      <td>JACKSON PARK GOLF COURSE</td>\n",
       "    </tr>\n",
       "    <tr>\n",
       "      <th>PMA_NAME</th>\n",
       "      <td>Jackson Park Golf Course</td>\n",
       "    </tr>\n",
       "    <tr>\n",
       "      <th>ADDRESS</th>\n",
       "      <td>None</td>\n",
       "    </tr>\n",
       "    <tr>\n",
       "      <th>PIN</th>\n",
       "      <td>5101407870</td>\n",
       "    </tr>\n",
       "    <tr>\n",
       "      <th>SUBPARCEL</th>\n",
       "      <td>636</td>\n",
       "    </tr>\n",
       "    <tr>\n",
       "      <th>PMA</th>\n",
       "      <td>327</td>\n",
       "    </tr>\n",
       "    <tr>\n",
       "      <th>OWNER</th>\n",
       "      <td>DPR</td>\n",
       "    </tr>\n",
       "    <tr>\n",
       "      <th>LEASE</th>\n",
       "      <td>N</td>\n",
       "    </tr>\n",
       "    <tr>\n",
       "      <th>MAINT</th>\n",
       "      <td>DPR</td>\n",
       "    </tr>\n",
       "    <tr>\n",
       "      <th>USE</th>\n",
       "      <td>GF</td>\n",
       "    </tr>\n",
       "    <tr>\n",
       "      <th>ACQ_DATE</th>\n",
       "      <td>2099-01-01T00:00:00.000Z</td>\n",
       "    </tr>\n",
       "    <tr>\n",
       "      <th>NAMEFLAG</th>\n",
       "      <td>5</td>\n",
       "    </tr>\n",
       "    <tr>\n",
       "      <th>SE_ANNO_CA</th>\n",
       "      <td>None</td>\n",
       "    </tr>\n",
       "    <tr>\n",
       "      <th>REVIEW_DAT</th>\n",
       "      <td>1899-12-30T00:00:00.000Z</td>\n",
       "    </tr>\n",
       "    <tr>\n",
       "      <th>AMWOID</th>\n",
       "      <td>PROPERTY-JGOLF</td>\n",
       "    </tr>\n",
       "    <tr>\n",
       "      <th>GIS_EDT_DT</th>\n",
       "      <td>2016-06-09T16:23:26.000Z</td>\n",
       "    </tr>\n",
       "    <tr>\n",
       "      <th>SHAPE_Leng</th>\n",
       "      <td>10475.3</td>\n",
       "    </tr>\n",
       "    <tr>\n",
       "      <th>SHAPE_Area</th>\n",
       "      <td>5.7785e+06</td>\n",
       "    </tr>\n",
       "    <tr>\n",
       "      <th>geometry</th>\n",
       "      <td>POLYGON ((-122.3233621263486 47.73396962234794...</td>\n",
       "    </tr>\n",
       "    <tr>\n",
       "      <th>98101</th>\n",
       "      <td>False</td>\n",
       "    </tr>\n",
       "    <tr>\n",
       "      <th>98102</th>\n",
       "      <td>False</td>\n",
       "    </tr>\n",
       "    <tr>\n",
       "      <th>98112</th>\n",
       "      <td>False</td>\n",
       "    </tr>\n",
       "    <tr>\n",
       "      <th>98115</th>\n",
       "      <td>False</td>\n",
       "    </tr>\n",
       "    <tr>\n",
       "      <th>98116</th>\n",
       "      <td>False</td>\n",
       "    </tr>\n",
       "    <tr>\n",
       "      <th>98136</th>\n",
       "      <td>False</td>\n",
       "    </tr>\n",
       "    <tr>\n",
       "      <th>98103</th>\n",
       "      <td>False</td>\n",
       "    </tr>\n",
       "    <tr>\n",
       "      <th>98104</th>\n",
       "      <td>False</td>\n",
       "    </tr>\n",
       "    <tr>\n",
       "      <th>98105</th>\n",
       "      <td>False</td>\n",
       "    </tr>\n",
       "    <tr>\n",
       "      <th>98106</th>\n",
       "      <td>False</td>\n",
       "    </tr>\n",
       "    <tr>\n",
       "      <th>98107</th>\n",
       "      <td>False</td>\n",
       "    </tr>\n",
       "    <tr>\n",
       "      <th>98108</th>\n",
       "      <td>False</td>\n",
       "    </tr>\n",
       "    <tr>\n",
       "      <th>98109</th>\n",
       "      <td>False</td>\n",
       "    </tr>\n",
       "    <tr>\n",
       "      <th>98118</th>\n",
       "      <td>False</td>\n",
       "    </tr>\n",
       "    <tr>\n",
       "      <th>98119</th>\n",
       "      <td>False</td>\n",
       "    </tr>\n",
       "    <tr>\n",
       "      <th>98121</th>\n",
       "      <td>False</td>\n",
       "    </tr>\n",
       "    <tr>\n",
       "      <th>98122</th>\n",
       "      <td>False</td>\n",
       "    </tr>\n",
       "    <tr>\n",
       "      <th>98125</th>\n",
       "      <td>True</td>\n",
       "    </tr>\n",
       "    <tr>\n",
       "      <th>98126</th>\n",
       "      <td>False</td>\n",
       "    </tr>\n",
       "    <tr>\n",
       "      <th>98133</th>\n",
       "      <td>False</td>\n",
       "    </tr>\n",
       "    <tr>\n",
       "      <th>98134</th>\n",
       "      <td>False</td>\n",
       "    </tr>\n",
       "    <tr>\n",
       "      <th>98144</th>\n",
       "      <td>False</td>\n",
       "    </tr>\n",
       "    <tr>\n",
       "      <th>98146</th>\n",
       "      <td>False</td>\n",
       "    </tr>\n",
       "    <tr>\n",
       "      <th>98155</th>\n",
       "      <td>True</td>\n",
       "    </tr>\n",
       "    <tr>\n",
       "      <th>98117</th>\n",
       "      <td>False</td>\n",
       "    </tr>\n",
       "    <tr>\n",
       "      <th>98177</th>\n",
       "      <td>False</td>\n",
       "    </tr>\n",
       "    <tr>\n",
       "      <th>98178</th>\n",
       "      <td>False</td>\n",
       "    </tr>\n",
       "    <tr>\n",
       "      <th>98199</th>\n",
       "      <td>False</td>\n",
       "    </tr>\n",
       "    <tr>\n",
       "      <th>98195</th>\n",
       "      <td>False</td>\n",
       "    </tr>\n",
       "  </tbody>\n",
       "</table>\n",
       "</div>"
      ],
      "text/plain": [
       "                                                            0\n",
       "OBJECTID                                                    1\n",
       "NAME                                 JACKSON PARK GOLF COURSE\n",
       "PMA_NAME                             Jackson Park Golf Course\n",
       "ADDRESS                                                  None\n",
       "PIN                                                5101407870\n",
       "SUBPARCEL                                                 636\n",
       "PMA                                                       327\n",
       "OWNER                                                     DPR\n",
       "LEASE                                                       N\n",
       "MAINT                                                     DPR\n",
       "USE                                                        GF\n",
       "ACQ_DATE                             2099-01-01T00:00:00.000Z\n",
       "NAMEFLAG                                                    5\n",
       "SE_ANNO_CA                                               None\n",
       "REVIEW_DAT                           1899-12-30T00:00:00.000Z\n",
       "AMWOID                                         PROPERTY-JGOLF\n",
       "GIS_EDT_DT                           2016-06-09T16:23:26.000Z\n",
       "SHAPE_Leng                                            10475.3\n",
       "SHAPE_Area                                         5.7785e+06\n",
       "geometry    POLYGON ((-122.3233621263486 47.73396962234794...\n",
       "98101                                                   False\n",
       "98102                                                   False\n",
       "98112                                                   False\n",
       "98115                                                   False\n",
       "98116                                                   False\n",
       "98136                                                   False\n",
       "98103                                                   False\n",
       "98104                                                   False\n",
       "98105                                                   False\n",
       "98106                                                   False\n",
       "98107                                                   False\n",
       "98108                                                   False\n",
       "98109                                                   False\n",
       "98118                                                   False\n",
       "98119                                                   False\n",
       "98121                                                   False\n",
       "98122                                                   False\n",
       "98125                                                    True\n",
       "98126                                                   False\n",
       "98133                                                   False\n",
       "98134                                                   False\n",
       "98144                                                   False\n",
       "98146                                                   False\n",
       "98155                                                    True\n",
       "98117                                                   False\n",
       "98177                                                   False\n",
       "98178                                                   False\n",
       "98199                                                   False\n",
       "98195                                                   False"
      ]
     },
     "execution_count": 271,
     "metadata": {},
     "output_type": "execute_result"
    }
   ],
   "source": [
    "parks_gdf.head(1).T"
   ]
  },
  {
   "cell_type": "markdown",
   "metadata": {},
   "source": [
    "## Decide on \"Large Park\" Boundary and Get \"large parks\" zipcodes\n",
    "\n",
    "Ravenna park's size: 50 acres"
   ]
  },
  {
   "cell_type": "code",
   "execution_count": 272,
   "metadata": {},
   "outputs": [],
   "source": [
    "ravenna_park = parks_gdf.loc[parks_gdf['NAME'] == 'RAVENNA PARK']\n",
    "large_park_area = ravenna_park['SHAPE_Area'].sum()"
   ]
  },
  {
   "cell_type": "code",
   "execution_count": 273,
   "metadata": {},
   "outputs": [],
   "source": [
    "large_parks = parks_gdf.loc[parks_gdf['SHAPE_Area']>= large_park_area]"
   ]
  },
  {
   "cell_type": "code",
   "execution_count": 274,
   "metadata": {},
   "outputs": [
    {
     "data": {
      "text/html": [
       "<div>\n",
       "<style scoped>\n",
       "    .dataframe tbody tr th:only-of-type {\n",
       "        vertical-align: middle;\n",
       "    }\n",
       "\n",
       "    .dataframe tbody tr th {\n",
       "        vertical-align: top;\n",
       "    }\n",
       "\n",
       "    .dataframe thead th {\n",
       "        text-align: right;\n",
       "    }\n",
       "</style>\n",
       "<table border=\"1\" class=\"dataframe\">\n",
       "  <thead>\n",
       "    <tr style=\"text-align: right;\">\n",
       "      <th></th>\n",
       "      <th>0</th>\n",
       "    </tr>\n",
       "  </thead>\n",
       "  <tbody>\n",
       "    <tr>\n",
       "      <th>OBJECTID</th>\n",
       "      <td>1</td>\n",
       "    </tr>\n",
       "    <tr>\n",
       "      <th>NAME</th>\n",
       "      <td>JACKSON PARK GOLF COURSE</td>\n",
       "    </tr>\n",
       "    <tr>\n",
       "      <th>PMA_NAME</th>\n",
       "      <td>Jackson Park Golf Course</td>\n",
       "    </tr>\n",
       "    <tr>\n",
       "      <th>ADDRESS</th>\n",
       "      <td>None</td>\n",
       "    </tr>\n",
       "    <tr>\n",
       "      <th>PIN</th>\n",
       "      <td>5101407870</td>\n",
       "    </tr>\n",
       "    <tr>\n",
       "      <th>SUBPARCEL</th>\n",
       "      <td>636</td>\n",
       "    </tr>\n",
       "    <tr>\n",
       "      <th>PMA</th>\n",
       "      <td>327</td>\n",
       "    </tr>\n",
       "    <tr>\n",
       "      <th>OWNER</th>\n",
       "      <td>DPR</td>\n",
       "    </tr>\n",
       "    <tr>\n",
       "      <th>LEASE</th>\n",
       "      <td>N</td>\n",
       "    </tr>\n",
       "    <tr>\n",
       "      <th>MAINT</th>\n",
       "      <td>DPR</td>\n",
       "    </tr>\n",
       "    <tr>\n",
       "      <th>USE</th>\n",
       "      <td>GF</td>\n",
       "    </tr>\n",
       "    <tr>\n",
       "      <th>ACQ_DATE</th>\n",
       "      <td>2099-01-01T00:00:00.000Z</td>\n",
       "    </tr>\n",
       "    <tr>\n",
       "      <th>NAMEFLAG</th>\n",
       "      <td>5</td>\n",
       "    </tr>\n",
       "    <tr>\n",
       "      <th>SE_ANNO_CA</th>\n",
       "      <td>None</td>\n",
       "    </tr>\n",
       "    <tr>\n",
       "      <th>REVIEW_DAT</th>\n",
       "      <td>1899-12-30T00:00:00.000Z</td>\n",
       "    </tr>\n",
       "    <tr>\n",
       "      <th>AMWOID</th>\n",
       "      <td>PROPERTY-JGOLF</td>\n",
       "    </tr>\n",
       "    <tr>\n",
       "      <th>GIS_EDT_DT</th>\n",
       "      <td>2016-06-09T16:23:26.000Z</td>\n",
       "    </tr>\n",
       "    <tr>\n",
       "      <th>SHAPE_Leng</th>\n",
       "      <td>10475.3</td>\n",
       "    </tr>\n",
       "    <tr>\n",
       "      <th>SHAPE_Area</th>\n",
       "      <td>5.7785e+06</td>\n",
       "    </tr>\n",
       "    <tr>\n",
       "      <th>geometry</th>\n",
       "      <td>POLYGON ((-122.3233621263486 47.73396962234794...</td>\n",
       "    </tr>\n",
       "    <tr>\n",
       "      <th>98101</th>\n",
       "      <td>False</td>\n",
       "    </tr>\n",
       "    <tr>\n",
       "      <th>98102</th>\n",
       "      <td>False</td>\n",
       "    </tr>\n",
       "    <tr>\n",
       "      <th>98112</th>\n",
       "      <td>False</td>\n",
       "    </tr>\n",
       "    <tr>\n",
       "      <th>98115</th>\n",
       "      <td>False</td>\n",
       "    </tr>\n",
       "    <tr>\n",
       "      <th>98116</th>\n",
       "      <td>False</td>\n",
       "    </tr>\n",
       "    <tr>\n",
       "      <th>98136</th>\n",
       "      <td>False</td>\n",
       "    </tr>\n",
       "    <tr>\n",
       "      <th>98103</th>\n",
       "      <td>False</td>\n",
       "    </tr>\n",
       "    <tr>\n",
       "      <th>98104</th>\n",
       "      <td>False</td>\n",
       "    </tr>\n",
       "    <tr>\n",
       "      <th>98105</th>\n",
       "      <td>False</td>\n",
       "    </tr>\n",
       "    <tr>\n",
       "      <th>98106</th>\n",
       "      <td>False</td>\n",
       "    </tr>\n",
       "    <tr>\n",
       "      <th>98107</th>\n",
       "      <td>False</td>\n",
       "    </tr>\n",
       "    <tr>\n",
       "      <th>98108</th>\n",
       "      <td>False</td>\n",
       "    </tr>\n",
       "    <tr>\n",
       "      <th>98109</th>\n",
       "      <td>False</td>\n",
       "    </tr>\n",
       "    <tr>\n",
       "      <th>98118</th>\n",
       "      <td>False</td>\n",
       "    </tr>\n",
       "    <tr>\n",
       "      <th>98119</th>\n",
       "      <td>False</td>\n",
       "    </tr>\n",
       "    <tr>\n",
       "      <th>98121</th>\n",
       "      <td>False</td>\n",
       "    </tr>\n",
       "    <tr>\n",
       "      <th>98122</th>\n",
       "      <td>False</td>\n",
       "    </tr>\n",
       "    <tr>\n",
       "      <th>98125</th>\n",
       "      <td>True</td>\n",
       "    </tr>\n",
       "    <tr>\n",
       "      <th>98126</th>\n",
       "      <td>False</td>\n",
       "    </tr>\n",
       "    <tr>\n",
       "      <th>98133</th>\n",
       "      <td>False</td>\n",
       "    </tr>\n",
       "    <tr>\n",
       "      <th>98134</th>\n",
       "      <td>False</td>\n",
       "    </tr>\n",
       "    <tr>\n",
       "      <th>98144</th>\n",
       "      <td>False</td>\n",
       "    </tr>\n",
       "    <tr>\n",
       "      <th>98146</th>\n",
       "      <td>False</td>\n",
       "    </tr>\n",
       "    <tr>\n",
       "      <th>98155</th>\n",
       "      <td>True</td>\n",
       "    </tr>\n",
       "    <tr>\n",
       "      <th>98117</th>\n",
       "      <td>False</td>\n",
       "    </tr>\n",
       "    <tr>\n",
       "      <th>98177</th>\n",
       "      <td>False</td>\n",
       "    </tr>\n",
       "    <tr>\n",
       "      <th>98178</th>\n",
       "      <td>False</td>\n",
       "    </tr>\n",
       "    <tr>\n",
       "      <th>98199</th>\n",
       "      <td>False</td>\n",
       "    </tr>\n",
       "    <tr>\n",
       "      <th>98195</th>\n",
       "      <td>False</td>\n",
       "    </tr>\n",
       "  </tbody>\n",
       "</table>\n",
       "</div>"
      ],
      "text/plain": [
       "                                                            0\n",
       "OBJECTID                                                    1\n",
       "NAME                                 JACKSON PARK GOLF COURSE\n",
       "PMA_NAME                             Jackson Park Golf Course\n",
       "ADDRESS                                                  None\n",
       "PIN                                                5101407870\n",
       "SUBPARCEL                                                 636\n",
       "PMA                                                       327\n",
       "OWNER                                                     DPR\n",
       "LEASE                                                       N\n",
       "MAINT                                                     DPR\n",
       "USE                                                        GF\n",
       "ACQ_DATE                             2099-01-01T00:00:00.000Z\n",
       "NAMEFLAG                                                    5\n",
       "SE_ANNO_CA                                               None\n",
       "REVIEW_DAT                           1899-12-30T00:00:00.000Z\n",
       "AMWOID                                         PROPERTY-JGOLF\n",
       "GIS_EDT_DT                           2016-06-09T16:23:26.000Z\n",
       "SHAPE_Leng                                            10475.3\n",
       "SHAPE_Area                                         5.7785e+06\n",
       "geometry    POLYGON ((-122.3233621263486 47.73396962234794...\n",
       "98101                                                   False\n",
       "98102                                                   False\n",
       "98112                                                   False\n",
       "98115                                                   False\n",
       "98116                                                   False\n",
       "98136                                                   False\n",
       "98103                                                   False\n",
       "98104                                                   False\n",
       "98105                                                   False\n",
       "98106                                                   False\n",
       "98107                                                   False\n",
       "98108                                                   False\n",
       "98109                                                   False\n",
       "98118                                                   False\n",
       "98119                                                   False\n",
       "98121                                                   False\n",
       "98122                                                   False\n",
       "98125                                                    True\n",
       "98126                                                   False\n",
       "98133                                                   False\n",
       "98134                                                   False\n",
       "98144                                                   False\n",
       "98146                                                   False\n",
       "98155                                                    True\n",
       "98117                                                   False\n",
       "98177                                                   False\n",
       "98178                                                   False\n",
       "98199                                                   False\n",
       "98195                                                   False"
      ]
     },
     "execution_count": 274,
     "metadata": {},
     "output_type": "execute_result"
    }
   ],
   "source": [
    "large_parks.head(1).T"
   ]
  },
  {
   "cell_type": "code",
   "execution_count": 275,
   "metadata": {},
   "outputs": [],
   "source": [
    "parks_in_zips = {zip_code: large_parks[str(zip_code)].sum() for zip_code in pets_zips_gdf['ZIP']}"
   ]
  },
  {
   "cell_type": "code",
   "execution_count": 276,
   "metadata": {},
   "outputs": [
    {
     "data": {
      "text/plain": [
       "{98101: 0,\n",
       " 98102: 0,\n",
       " 98112: 1,\n",
       " 98115: 2,\n",
       " 98116: 1,\n",
       " 98136: 1,\n",
       " 98103: 3,\n",
       " 98104: 0,\n",
       " 98105: 0,\n",
       " 98106: 2,\n",
       " 98107: 0,\n",
       " 98108: 2,\n",
       " 98109: 0,\n",
       " 98118: 4,\n",
       " 98119: 0,\n",
       " 98121: 0,\n",
       " 98122: 0,\n",
       " 98125: 1,\n",
       " 98126: 2,\n",
       " 98133: 0,\n",
       " 98134: 0,\n",
       " 98144: 1,\n",
       " 98146: 0,\n",
       " 98155: 1,\n",
       " 98117: 0,\n",
       " 98177: 2,\n",
       " 98178: 0,\n",
       " 98199: 3,\n",
       " 98195: 0}"
      ]
     },
     "execution_count": 276,
     "metadata": {},
     "output_type": "execute_result"
    }
   ],
   "source": [
    "parks_in_zips"
   ]
  },
  {
   "cell_type": "code",
   "execution_count": 277,
   "metadata": {},
   "outputs": [],
   "source": [
    "no_parks_zips = [zip_code for zip_code in parks_in_zips.keys() if parks_in_zips[zip_code]==0]"
   ]
  },
  {
   "cell_type": "code",
   "execution_count": 278,
   "metadata": {},
   "outputs": [],
   "source": [
    "parks_zips = [zip_code for zip_code in parks_in_zips.keys() if parks_in_zips[zip_code]>0]"
   ]
  },
  {
   "cell_type": "code",
   "execution_count": 279,
   "metadata": {},
   "outputs": [
    {
     "name": "stdout",
     "output_type": "stream",
     "text": [
      "Number of zip codes without large parks: 15\n",
      "Number of zip codes with large parks: 14\n"
     ]
    }
   ],
   "source": [
    "print(f\"Number of zip codes without large parks: {len(no_parks_zips)}\")\n",
    "print(f\"Number of zip codes with large parks: {len(parks_zips)}\")"
   ]
  },
  {
   "cell_type": "markdown",
   "metadata": {},
   "source": [
    "## Calculate Dog Density"
   ]
  },
  {
   "cell_type": "markdown",
   "metadata": {},
   "source": [
    "Clean data frame zip codes"
   ]
  },
  {
   "cell_type": "code",
   "execution_count": 280,
   "metadata": {},
   "outputs": [],
   "source": [
    "# cut 9-digit zipcodes to the 5-digit version\n",
    "pets['ZIP Code'] = pets['ZIP Code'].str[0:5]\n",
    "\n",
    "# drop rows with NaN zip codes (~400 of 51k)\n",
    "pets = pets.dropna(subset=['ZIP Code'])\n",
    "\n",
    "# cast str zip codes to ints to match geo-dataset\n",
    "pets['ZIP Code'] = pets['ZIP Code'].astype(int)"
   ]
  },
  {
   "cell_type": "markdown",
   "metadata": {},
   "source": [
    "Calculate dog counts"
   ]
  },
  {
   "cell_type": "code",
   "execution_count": 281,
   "metadata": {},
   "outputs": [],
   "source": [
    "# create dataframe with the count of pets by zipcode\n",
    "dog_df = pets.loc[pets['Species'] == 'Dog']\n",
    "dog_counts = pd.DataFrame(dog_df['ZIP Code'].value_counts())\n",
    "dog_counts = dog_counts.reset_index()\n",
    "dog_counts.columns = ['ZIP', 'dog_count']"
   ]
  },
  {
   "cell_type": "markdown",
   "metadata": {},
   "source": [
    "Add dog data to pets_zips_gdf"
   ]
  },
  {
   "cell_type": "code",
   "execution_count": 282,
   "metadata": {},
   "outputs": [],
   "source": [
    "pets_zips_gdf = pets_zips_gdf.merge(dog_counts, on='ZIP')"
   ]
  },
  {
   "cell_type": "code",
   "execution_count": 283,
   "metadata": {},
   "outputs": [],
   "source": [
    "pets_zips_gdf['dog_density'] = pets_zips_gdf['dog_count'] / pets_zips_gdf['area']"
   ]
  },
  {
   "cell_type": "code",
   "execution_count": 333,
   "metadata": {
    "scrolled": true
   },
   "outputs": [
    {
     "data": {
      "image/png": "[encoded data removed]",
      "text/plain": [
       "<Figure size 720x720 with 2 Axes>"
      ]
     },
     "metadata": {
      "needs_background": "light"
     },
     "output_type": "display_data"
    }
   ],
   "source": [
    "# adding a legend using code from http://geopandas.org/mapping.html\n",
    "from mpl_toolkits.axes_grid1 import make_axes_locatable\n",
    "\n",
    "fig, ax = plt.subplots(figsize=(10,10))\n",
    "divider = make_axes_locatable(ax)\n",
    "cax = divider.append_axes(\"right\", size=\"5%\", pad=0.1)\n",
    "ax.set_title('Registered Dog Density in Seattle by Zip Code whith Major Parks')\n",
    "pets_zips_gdf.plot(column='dog_density', ax=ax, cax=cax, legend=True)\n",
    "large_parks.plot(ax=ax, color='gray', edgecolor='black')\n",
    "\n",
    "plt.savefig('images/park_map_dog_density.png');"
   ]
  },
  {
   "cell_type": "code",
   "execution_count": 336,
   "metadata": {},
   "outputs": [
    {
     "data": {
      "text/html": [
       "<div>\n",
       "<style scoped>\n",
       "    .dataframe tbody tr th:only-of-type {\n",
       "        vertical-align: middle;\n",
       "    }\n",
       "\n",
       "    .dataframe tbody tr th {\n",
       "        vertical-align: top;\n",
       "    }\n",
       "\n",
       "    .dataframe thead th {\n",
       "        text-align: right;\n",
       "    }\n",
       "</style>\n",
       "<table border=\"1\" class=\"dataframe\">\n",
       "  <thead>\n",
       "    <tr style=\"text-align: right;\">\n",
       "      <th></th>\n",
       "      <th>Unnamed: 0</th>\n",
       "      <th>ZIP</th>\n",
       "      <th>geometry</th>\n",
       "      <th>area</th>\n",
       "      <th>pets</th>\n",
       "      <th>pet_density</th>\n",
       "      <th>dog_count</th>\n",
       "      <th>dog_density</th>\n",
       "      <th>goats</th>\n",
       "    </tr>\n",
       "  </thead>\n",
       "  <tbody>\n",
       "    <tr>\n",
       "      <th>15</th>\n",
       "      <td>16</td>\n",
       "      <td>98121</td>\n",
       "      <td>POLYGON ((-122.35736 47.61861, -122.35676 47.6...</td>\n",
       "      <td>0.000136</td>\n",
       "      <td>968</td>\n",
       "      <td>7.107954e+06</td>\n",
       "      <td>629</td>\n",
       "      <td>4.618702e+06</td>\n",
       "      <td>0.0</td>\n",
       "    </tr>\n",
       "  </tbody>\n",
       "</table>\n",
       "</div>"
      ],
      "text/plain": [
       "    Unnamed: 0    ZIP                                           geometry  \\\n",
       "15          16  98121  POLYGON ((-122.35736 47.61861, -122.35676 47.6...   \n",
       "\n",
       "        area  pets   pet_density  dog_count   dog_density  goats  \n",
       "15  0.000136   968  7.107954e+06        629  4.618702e+06    0.0  "
      ]
     },
     "execution_count": 336,
     "metadata": {},
     "output_type": "execute_result"
    }
   ],
   "source": [
    "pets_zips_gdf.loc[pets_zips_gdf['dog_density']==pets_zips_gdf['dog_density'].max()]"
   ]
  },
  {
   "cell_type": "markdown",
   "metadata": {},
   "source": [
    "## Hypothesis Testing"
   ]
  },
  {
   "cell_type": "markdown",
   "metadata": {},
   "source": [
    "### Do zipcodes with large parks have a higher density of dogs than those without large parks?"
   ]
  },
  {
   "cell_type": "code",
   "execution_count": 285,
   "metadata": {},
   "outputs": [],
   "source": [
    "park_zips_dogs = pets_zips_gdf.loc[pets_zips_gdf['ZIP'].isin(parks_zips)]"
   ]
  },
  {
   "cell_type": "code",
   "execution_count": 286,
   "metadata": {},
   "outputs": [],
   "source": [
    "no_park_zips_dogs = pets_zips_gdf.loc[pets_zips_gdf['ZIP'].isin(no_parks_zips)]"
   ]
  },
  {
   "cell_type": "code",
   "execution_count": 334,
   "metadata": {},
   "outputs": [
    {
     "data": {
      "image/png": "[encoded data removed]",
      "text/plain": [
       "<Figure size 720x432 with 1 Axes>"
      ]
     },
     "metadata": {
      "needs_background": "light"
     },
     "output_type": "display_data"
    }
   ],
   "source": [
    "fig, ax = plt.subplots(figsize=(10,6))\n",
    "ax.hist(park_zips_dogs['dog_density'], color='g', \n",
    "        bins=20, range=(0, 5000000), alpha=.5, label='zip codes with large parks')\n",
    "ax.axvline(park_zips_dogs['dog_density'].mean(), label='mean dog density for zip codes with large parks',\n",
    "          color='green', linestyle='--')\n",
    "ax.hist(no_park_zips_dogs['dog_density'], color='gray', \n",
    "        bins=20, range=(0, 5000000), alpha=.5, label='zip codes without large parks')\n",
    "ax.axvline(no_park_zips_dogs['dog_density'].mean(), label='mean dog density for zip codes without large parks',\n",
    "          color='gray', linestyle='--')\n",
    "ax.legend()\n",
    "ax.set_xlabel('Dog Density')\n",
    "ax.set_ylabel('Number of Zip Codes')\n",
    "ax.set_title('Dog density histogram for zip codes with and without large parks.')\n",
    "plt.savefig('images/park_zip_hist.png');"
   ]
  },
  {
   "cell_type": "code",
   "execution_count": 339,
   "metadata": {},
   "outputs": [],
   "source": [
    "from scipy.stats import ttest_ind, t\n",
    "import numpy as np"
   ]
  },
  {
   "cell_type": "code",
   "execution_count": 373,
   "metadata": {},
   "outputs": [],
   "source": [
    "np.random.seed(1)\n",
    "rand_no_parks_zips = np.random.choice(no_parks_zips, size=14)"
   ]
  },
  {
   "cell_type": "code",
   "execution_count": 374,
   "metadata": {},
   "outputs": [
    {
     "name": "stdout",
     "output_type": "stream",
     "text": [
      "Ttest_indResult(statistic=-0.9046044635337662, pvalue=0.3745636286751721)\n"
     ]
    }
   ],
   "source": [
    "result = ttest_ind(rand_no_parks_zips, parks_zips, equal_var=False)\n",
    "print(result)"
   ]
  },
  {
   "cell_type": "code",
   "execution_count": 375,
   "metadata": {},
   "outputs": [
    {
     "data": {
      "text/plain": [
       "1.7709333959867988"
      ]
     },
     "execution_count": 375,
     "metadata": {},
     "output_type": "execute_result"
    }
   ],
   "source": [
    "p = .95 # 1-alpha\n",
    "df = 13 # degrees of freedom (n-1)\n",
    "critical_t_value = t.ppf(p, df)\n",
    "critical_t_value"
   ]
  },
  {
   "cell_type": "code",
   "execution_count": 376,
   "metadata": {
    "scrolled": false
   },
   "outputs": [
    {
     "data": {
      "text/plain": [
       "0.808933235528686"
      ]
     },
     "execution_count": 376,
     "metadata": {},
     "output_type": "execute_result"
    }
   ],
   "source": [
    "p_value = 1-t.cdf(result[0], df)\n",
    "p_value"
   ]
  },
  {
   "cell_type": "code",
   "execution_count": 377,
   "metadata": {},
   "outputs": [
    {
     "data": {
      "image/png": "[encoded data removed]",
      "text/plain": [
       "<Figure size 720x432 with 1 Axes>"
      ]
     },
     "metadata": {
      "needs_background": "light"
     },
     "output_type": "display_data"
    }
   ],
   "source": [
    "# plot for our t-test\n",
    "x = np.linspace(-5, 5, 200)\n",
    "y = t.pdf(x, df)\n",
    "\n",
    "fig, ax = plt.subplots(figsize=(10,6))\n",
    "ax.plot(x, y, color='black')\n",
    "\n",
    "# add .05 significance level for our t-test\n",
    "ax.axvline(critical_t_value, label='crtical t-value',\n",
    "          color='g', linestyle='--')\n",
    "ax.fill_betweenx(y, x, t_crit_one_tail_greater, \n",
    "                 where= x > t_crit_one_tail_greater,\n",
    "                 color='g', alpha=.5)\n",
    "\n",
    "# add our t-statistic\n",
    "ax.axvline(result[0], label='experimental t-value', color='purple',\n",
    "          linestyle='--')\n",
    "\n",
    "# complete the graph\n",
    "ax.legend()\n",
    "ax.set_ylim(bottom=0)\n",
    "ax.set_title('T-test for Dog Density in Zip Codes with Large Parks as Compared to Those Without')\n",
    "plt.savefig('images/dog_density_t-test');"
   ]
  },
  {
   "cell_type": "markdown",
   "metadata": {},
   "source": [
    "### Do cats and dogs have different \"residence\" time in Seattle right now?"
   ]
  },
  {
   "cell_type": "code",
   "execution_count": 293,
   "metadata": {},
   "outputs": [
    {
     "data": {
      "text/html": [
       "<div>\n",
       "<style scoped>\n",
       "    .dataframe tbody tr th:only-of-type {\n",
       "        vertical-align: middle;\n",
       "    }\n",
       "\n",
       "    .dataframe tbody tr th {\n",
       "        vertical-align: top;\n",
       "    }\n",
       "\n",
       "    .dataframe thead th {\n",
       "        text-align: right;\n",
       "    }\n",
       "</style>\n",
       "<table border=\"1\" class=\"dataframe\">\n",
       "  <thead>\n",
       "    <tr style=\"text-align: right;\">\n",
       "      <th></th>\n",
       "      <th>License Issue Date</th>\n",
       "      <th>License Number</th>\n",
       "      <th>Animal's Name</th>\n",
       "      <th>Species</th>\n",
       "      <th>Primary Breed</th>\n",
       "      <th>Secondary Breed</th>\n",
       "      <th>ZIP Code</th>\n",
       "    </tr>\n",
       "  </thead>\n",
       "  <tbody>\n",
       "    <tr>\n",
       "      <th>0</th>\n",
       "      <td>April 19 2003</td>\n",
       "      <td>200097</td>\n",
       "      <td>Tinkerdelle</td>\n",
       "      <td>Cat</td>\n",
       "      <td>Domestic Shorthair</td>\n",
       "      <td>NaN</td>\n",
       "      <td>98116</td>\n",
       "    </tr>\n",
       "    <tr>\n",
       "      <th>1</th>\n",
       "      <td>February 07 2006</td>\n",
       "      <td>75432</td>\n",
       "      <td>Pepper</td>\n",
       "      <td>Cat</td>\n",
       "      <td>Manx</td>\n",
       "      <td>Mix</td>\n",
       "      <td>98103</td>\n",
       "    </tr>\n",
       "    <tr>\n",
       "      <th>2</th>\n",
       "      <td>May 21 2014</td>\n",
       "      <td>727943</td>\n",
       "      <td>Ashley</td>\n",
       "      <td>Cat</td>\n",
       "      <td>Domestic Shorthair</td>\n",
       "      <td>NaN</td>\n",
       "      <td>98115</td>\n",
       "    </tr>\n",
       "    <tr>\n",
       "      <th>3</th>\n",
       "      <td>May 08 2015</td>\n",
       "      <td>833836</td>\n",
       "      <td>Lulu</td>\n",
       "      <td>Cat</td>\n",
       "      <td>LaPerm</td>\n",
       "      <td>NaN</td>\n",
       "      <td>98136</td>\n",
       "    </tr>\n",
       "    <tr>\n",
       "      <th>4</th>\n",
       "      <td>May 13 2015</td>\n",
       "      <td>361031</td>\n",
       "      <td>My Boy</td>\n",
       "      <td>Cat</td>\n",
       "      <td>Russian Blue</td>\n",
       "      <td>NaN</td>\n",
       "      <td>98121</td>\n",
       "    </tr>\n",
       "  </tbody>\n",
       "</table>\n",
       "</div>"
      ],
      "text/plain": [
       "  License Issue Date License Number Animal's Name Species       Primary Breed  \\\n",
       "0      April 19 2003         200097   Tinkerdelle     Cat  Domestic Shorthair   \n",
       "1   February 07 2006          75432        Pepper     Cat                Manx   \n",
       "2        May 21 2014         727943        Ashley     Cat  Domestic Shorthair   \n",
       "3        May 08 2015         833836          Lulu     Cat              LaPerm   \n",
       "4        May 13 2015         361031        My Boy     Cat        Russian Blue   \n",
       "\n",
       "  Secondary Breed  ZIP Code  \n",
       "0             NaN     98116  \n",
       "1             Mix     98103  \n",
       "2             NaN     98115  \n",
       "3             NaN     98136  \n",
       "4             NaN     98121  "
      ]
     },
     "execution_count": 293,
     "metadata": {},
     "output_type": "execute_result"
    }
   ],
   "source": [
    "pets.head()"
   ]
  },
  {
   "cell_type": "code",
   "execution_count": 294,
   "metadata": {},
   "outputs": [],
   "source": [
    "pets['License Issue Date'] = pd.to_datetime(pets['License Issue Date'])"
   ]
  },
  {
   "cell_type": "code",
   "execution_count": 295,
   "metadata": {},
   "outputs": [],
   "source": [
    "import datetime"
   ]
  },
  {
   "cell_type": "code",
   "execution_count": 296,
   "metadata": {},
   "outputs": [],
   "source": [
    "today = datetime.datetime.today()\n",
    "pets['time_in_sea'] = today - pets['License Issue Date']"
   ]
  },
  {
   "cell_type": "code",
   "execution_count": 297,
   "metadata": {},
   "outputs": [
    {
     "data": {
      "text/html": [
       "<div>\n",
       "<style scoped>\n",
       "    .dataframe tbody tr th:only-of-type {\n",
       "        vertical-align: middle;\n",
       "    }\n",
       "\n",
       "    .dataframe tbody tr th {\n",
       "        vertical-align: top;\n",
       "    }\n",
       "\n",
       "    .dataframe thead th {\n",
       "        text-align: right;\n",
       "    }\n",
       "</style>\n",
       "<table border=\"1\" class=\"dataframe\">\n",
       "  <thead>\n",
       "    <tr style=\"text-align: right;\">\n",
       "      <th></th>\n",
       "      <th>License Issue Date</th>\n",
       "      <th>License Number</th>\n",
       "      <th>Animal's Name</th>\n",
       "      <th>Species</th>\n",
       "      <th>Primary Breed</th>\n",
       "      <th>Secondary Breed</th>\n",
       "      <th>ZIP Code</th>\n",
       "      <th>time_in_sea</th>\n",
       "    </tr>\n",
       "  </thead>\n",
       "  <tbody>\n",
       "    <tr>\n",
       "      <th>0</th>\n",
       "      <td>2003-04-19</td>\n",
       "      <td>200097</td>\n",
       "      <td>Tinkerdelle</td>\n",
       "      <td>Cat</td>\n",
       "      <td>Domestic Shorthair</td>\n",
       "      <td>NaN</td>\n",
       "      <td>98116</td>\n",
       "      <td>6083 days 15:04:59.512174</td>\n",
       "    </tr>\n",
       "    <tr>\n",
       "      <th>1</th>\n",
       "      <td>2006-02-07</td>\n",
       "      <td>75432</td>\n",
       "      <td>Pepper</td>\n",
       "      <td>Cat</td>\n",
       "      <td>Manx</td>\n",
       "      <td>Mix</td>\n",
       "      <td>98103</td>\n",
       "      <td>5058 days 15:04:59.512174</td>\n",
       "    </tr>\n",
       "    <tr>\n",
       "      <th>2</th>\n",
       "      <td>2014-05-21</td>\n",
       "      <td>727943</td>\n",
       "      <td>Ashley</td>\n",
       "      <td>Cat</td>\n",
       "      <td>Domestic Shorthair</td>\n",
       "      <td>NaN</td>\n",
       "      <td>98115</td>\n",
       "      <td>2033 days 15:04:59.512174</td>\n",
       "    </tr>\n",
       "    <tr>\n",
       "      <th>3</th>\n",
       "      <td>2015-05-08</td>\n",
       "      <td>833836</td>\n",
       "      <td>Lulu</td>\n",
       "      <td>Cat</td>\n",
       "      <td>LaPerm</td>\n",
       "      <td>NaN</td>\n",
       "      <td>98136</td>\n",
       "      <td>1681 days 15:04:59.512174</td>\n",
       "    </tr>\n",
       "    <tr>\n",
       "      <th>4</th>\n",
       "      <td>2015-05-13</td>\n",
       "      <td>361031</td>\n",
       "      <td>My Boy</td>\n",
       "      <td>Cat</td>\n",
       "      <td>Russian Blue</td>\n",
       "      <td>NaN</td>\n",
       "      <td>98121</td>\n",
       "      <td>1676 days 15:04:59.512174</td>\n",
       "    </tr>\n",
       "  </tbody>\n",
       "</table>\n",
       "</div>"
      ],
      "text/plain": [
       "  License Issue Date License Number Animal's Name Species       Primary Breed  \\\n",
       "0         2003-04-19         200097   Tinkerdelle     Cat  Domestic Shorthair   \n",
       "1         2006-02-07          75432        Pepper     Cat                Manx   \n",
       "2         2014-05-21         727943        Ashley     Cat  Domestic Shorthair   \n",
       "3         2015-05-08         833836          Lulu     Cat              LaPerm   \n",
       "4         2015-05-13         361031        My Boy     Cat        Russian Blue   \n",
       "\n",
       "  Secondary Breed  ZIP Code               time_in_sea  \n",
       "0             NaN     98116 6083 days 15:04:59.512174  \n",
       "1             Mix     98103 5058 days 15:04:59.512174  \n",
       "2             NaN     98115 2033 days 15:04:59.512174  \n",
       "3             NaN     98136 1681 days 15:04:59.512174  \n",
       "4             NaN     98121 1676 days 15:04:59.512174  "
      ]
     },
     "execution_count": 297,
     "metadata": {},
     "output_type": "execute_result"
    }
   ],
   "source": [
    "pets.head()"
   ]
  },
  {
   "cell_type": "code",
   "execution_count": 298,
   "metadata": {},
   "outputs": [],
   "source": [
    "pets['time_in_sea'] = [x.days for x in pets['time_in_sea']]"
   ]
  },
  {
   "cell_type": "code",
   "execution_count": 299,
   "metadata": {},
   "outputs": [],
   "source": [
    "cats = pets.loc[pets['Species'] == 'Cat']"
   ]
  },
  {
   "cell_type": "code",
   "execution_count": 300,
   "metadata": {},
   "outputs": [
    {
     "data": {
      "text/html": [
       "<div>\n",
       "<style scoped>\n",
       "    .dataframe tbody tr th:only-of-type {\n",
       "        vertical-align: middle;\n",
       "    }\n",
       "\n",
       "    .dataframe tbody tr th {\n",
       "        vertical-align: top;\n",
       "    }\n",
       "\n",
       "    .dataframe thead th {\n",
       "        text-align: right;\n",
       "    }\n",
       "</style>\n",
       "<table border=\"1\" class=\"dataframe\">\n",
       "  <thead>\n",
       "    <tr style=\"text-align: right;\">\n",
       "      <th></th>\n",
       "      <th>License Issue Date</th>\n",
       "      <th>License Number</th>\n",
       "      <th>Animal's Name</th>\n",
       "      <th>Species</th>\n",
       "      <th>Primary Breed</th>\n",
       "      <th>Secondary Breed</th>\n",
       "      <th>ZIP Code</th>\n",
       "      <th>time_in_sea</th>\n",
       "    </tr>\n",
       "  </thead>\n",
       "  <tbody>\n",
       "    <tr>\n",
       "      <th>0</th>\n",
       "      <td>2003-04-19</td>\n",
       "      <td>200097</td>\n",
       "      <td>Tinkerdelle</td>\n",
       "      <td>Cat</td>\n",
       "      <td>Domestic Shorthair</td>\n",
       "      <td>NaN</td>\n",
       "      <td>98116</td>\n",
       "      <td>6083</td>\n",
       "    </tr>\n",
       "    <tr>\n",
       "      <th>1</th>\n",
       "      <td>2006-02-07</td>\n",
       "      <td>75432</td>\n",
       "      <td>Pepper</td>\n",
       "      <td>Cat</td>\n",
       "      <td>Manx</td>\n",
       "      <td>Mix</td>\n",
       "      <td>98103</td>\n",
       "      <td>5058</td>\n",
       "    </tr>\n",
       "    <tr>\n",
       "      <th>2</th>\n",
       "      <td>2014-05-21</td>\n",
       "      <td>727943</td>\n",
       "      <td>Ashley</td>\n",
       "      <td>Cat</td>\n",
       "      <td>Domestic Shorthair</td>\n",
       "      <td>NaN</td>\n",
       "      <td>98115</td>\n",
       "      <td>2033</td>\n",
       "    </tr>\n",
       "    <tr>\n",
       "      <th>3</th>\n",
       "      <td>2015-05-08</td>\n",
       "      <td>833836</td>\n",
       "      <td>Lulu</td>\n",
       "      <td>Cat</td>\n",
       "      <td>LaPerm</td>\n",
       "      <td>NaN</td>\n",
       "      <td>98136</td>\n",
       "      <td>1681</td>\n",
       "    </tr>\n",
       "    <tr>\n",
       "      <th>4</th>\n",
       "      <td>2015-05-13</td>\n",
       "      <td>361031</td>\n",
       "      <td>My Boy</td>\n",
       "      <td>Cat</td>\n",
       "      <td>Russian Blue</td>\n",
       "      <td>NaN</td>\n",
       "      <td>98121</td>\n",
       "      <td>1676</td>\n",
       "    </tr>\n",
       "  </tbody>\n",
       "</table>\n",
       "</div>"
      ],
      "text/plain": [
       "  License Issue Date License Number Animal's Name Species       Primary Breed  \\\n",
       "0         2003-04-19         200097   Tinkerdelle     Cat  Domestic Shorthair   \n",
       "1         2006-02-07          75432        Pepper     Cat                Manx   \n",
       "2         2014-05-21         727943        Ashley     Cat  Domestic Shorthair   \n",
       "3         2015-05-08         833836          Lulu     Cat              LaPerm   \n",
       "4         2015-05-13         361031        My Boy     Cat        Russian Blue   \n",
       "\n",
       "  Secondary Breed  ZIP Code  time_in_sea  \n",
       "0             NaN     98116         6083  \n",
       "1             Mix     98103         5058  \n",
       "2             NaN     98115         2033  \n",
       "3             NaN     98136         1681  \n",
       "4             NaN     98121         1676  "
      ]
     },
     "execution_count": 300,
     "metadata": {},
     "output_type": "execute_result"
    }
   ],
   "source": [
    "cats.head()"
   ]
  },
  {
   "cell_type": "code",
   "execution_count": 301,
   "metadata": {},
   "outputs": [],
   "source": [
    "dogs = pets.loc[pets['Species'] == 'Dog']"
   ]
  },
  {
   "cell_type": "code",
   "execution_count": 302,
   "metadata": {},
   "outputs": [
    {
     "data": {
      "text/html": [
       "<div>\n",
       "<style scoped>\n",
       "    .dataframe tbody tr th:only-of-type {\n",
       "        vertical-align: middle;\n",
       "    }\n",
       "\n",
       "    .dataframe tbody tr th {\n",
       "        vertical-align: top;\n",
       "    }\n",
       "\n",
       "    .dataframe thead th {\n",
       "        text-align: right;\n",
       "    }\n",
       "</style>\n",
       "<table border=\"1\" class=\"dataframe\">\n",
       "  <thead>\n",
       "    <tr style=\"text-align: right;\">\n",
       "      <th></th>\n",
       "      <th>License Issue Date</th>\n",
       "      <th>License Number</th>\n",
       "      <th>Animal's Name</th>\n",
       "      <th>Species</th>\n",
       "      <th>Primary Breed</th>\n",
       "      <th>Secondary Breed</th>\n",
       "      <th>ZIP Code</th>\n",
       "      <th>time_in_sea</th>\n",
       "    </tr>\n",
       "  </thead>\n",
       "  <tbody>\n",
       "    <tr>\n",
       "      <th>16872</th>\n",
       "      <td>2011-03-29</td>\n",
       "      <td>141222</td>\n",
       "      <td>Jenkey</td>\n",
       "      <td>Dog</td>\n",
       "      <td>Australian Cattle Dog</td>\n",
       "      <td>Mix</td>\n",
       "      <td>98106</td>\n",
       "      <td>3182</td>\n",
       "    </tr>\n",
       "    <tr>\n",
       "      <th>16873</th>\n",
       "      <td>2014-08-25</td>\n",
       "      <td>728371</td>\n",
       "      <td>Emma</td>\n",
       "      <td>Dog</td>\n",
       "      <td>Beagle</td>\n",
       "      <td>NaN</td>\n",
       "      <td>98102</td>\n",
       "      <td>1937</td>\n",
       "    </tr>\n",
       "    <tr>\n",
       "      <th>16874</th>\n",
       "      <td>2014-12-02</td>\n",
       "      <td>140940</td>\n",
       "      <td>Lulu</td>\n",
       "      <td>Dog</td>\n",
       "      <td>Retriever, Golden</td>\n",
       "      <td>Poodle, Standard</td>\n",
       "      <td>98118</td>\n",
       "      <td>1838</td>\n",
       "    </tr>\n",
       "    <tr>\n",
       "      <th>16875</th>\n",
       "      <td>2015-05-08</td>\n",
       "      <td>731184</td>\n",
       "      <td>Ginger</td>\n",
       "      <td>Dog</td>\n",
       "      <td>Chihuahua, Short Coat</td>\n",
       "      <td>NaN</td>\n",
       "      <td>98136</td>\n",
       "      <td>1681</td>\n",
       "    </tr>\n",
       "    <tr>\n",
       "      <th>16876</th>\n",
       "      <td>2015-08-05</td>\n",
       "      <td>S102297</td>\n",
       "      <td>Frida</td>\n",
       "      <td>Dog</td>\n",
       "      <td>Chihuahua, Short Coat</td>\n",
       "      <td>Mix</td>\n",
       "      <td>98117</td>\n",
       "      <td>1592</td>\n",
       "    </tr>\n",
       "  </tbody>\n",
       "</table>\n",
       "</div>"
      ],
      "text/plain": [
       "      License Issue Date License Number Animal's Name Species  \\\n",
       "16872         2011-03-29         141222        Jenkey     Dog   \n",
       "16873         2014-08-25         728371          Emma     Dog   \n",
       "16874         2014-12-02         140940          Lulu     Dog   \n",
       "16875         2015-05-08         731184        Ginger     Dog   \n",
       "16876         2015-08-05        S102297         Frida     Dog   \n",
       "\n",
       "               Primary Breed   Secondary Breed  ZIP Code  time_in_sea  \n",
       "16872  Australian Cattle Dog               Mix     98106         3182  \n",
       "16873                 Beagle               NaN     98102         1937  \n",
       "16874      Retriever, Golden  Poodle, Standard     98118         1838  \n",
       "16875  Chihuahua, Short Coat               NaN     98136         1681  \n",
       "16876  Chihuahua, Short Coat               Mix     98117         1592  "
      ]
     },
     "execution_count": 302,
     "metadata": {},
     "output_type": "execute_result"
    }
   ],
   "source": [
    "dogs.head()"
   ]
  },
  {
   "cell_type": "code",
   "execution_count": 303,
   "metadata": {},
   "outputs": [
    {
     "name": "stdout",
     "output_type": "stream",
     "text": [
      "oldest dog: 4286 \n",
      "oldest cat: 6083\n"
     ]
    }
   ],
   "source": [
    "print(f\"oldest dog: {dogs['time_in_sea'].max()} \")\n",
    "print(f\"oldest cat: {cats['time_in_sea'].max()}\" )"
   ]
  },
  {
   "cell_type": "code",
   "execution_count": 304,
   "metadata": {},
   "outputs": [
    {
     "data": {
      "image/png": "[encoded data removed]",
      "text/plain": [
       "<Figure size 720x576 with 1 Axes>"
      ]
     },
     "metadata": {
      "needs_background": "light"
     },
     "output_type": "display_data"
    }
   ],
   "source": [
    "fig, ax = plt.subplots(figsize=(10,8))\n",
    "ax.hist(dogs['time_in_sea'], color='r', \n",
    "        bins=60, range=(0, 2000), alpha=.5)\n",
    "ax.hist(cats['time_in_sea'], color='b', \n",
    "        bins=60, range=(0, 2000), alpha=.5);"
   ]
  },
  {
   "cell_type": "markdown",
   "metadata": {},
   "source": [
    "Oh no! It looks like days since liscence issue date is not a good proxy for pet age. There must have been a change of system or licensing push around three years ago (2007)."
   ]
  },
  {
   "cell_type": "markdown",
   "metadata": {},
   "source": [
    "## Visualizing the difference between one-tailed and two-tailed t-tests"
   ]
  },
  {
   "cell_type": "code",
   "execution_count": 305,
   "metadata": {},
   "outputs": [],
   "source": [
    "# set degree of freedom and critical value for .05 significance level\n",
    "df = 20\n",
    "t_crit_one_tail_greater = t.ppf(.95, df)\n",
    "t_crit_one_tail_less = t.ppf(.05, df)\n",
    "t_crit_two_tails_upper = t.ppf(0.975, df)\n",
    "t_crit_two_tails_lower = t.ppf(0.025, df)\n",
    "\n",
    "# generate x and y values\n",
    "x = np.linspace(-5, 5, 200)\n",
    "y = t.pdf(x, df)"
   ]
  },
  {
   "cell_type": "code",
   "execution_count": 306,
   "metadata": {},
   "outputs": [
    {
     "data": {
      "image/png": "[encoded data removed]",
      "text/plain": [
       "<Figure size 720x576 with 2 Axes>"
      ]
     },
     "metadata": {
      "needs_background": "light"
     },
     "output_type": "display_data"
    }
   ],
   "source": [
    "# plot for one-tailed t-test\n",
    "fig, axs = plt.subplots(nrows=2, figsize=(10,8))\n",
    "axs[0].plot(x, y, color='black')\n",
    "\n",
    "# add .05 significance level for a one-tailed t-test\n",
    "axs[0].axvline(t_crit_one_tail_greater, label='crtical t-value one-tail',\n",
    "          color='g', linestyle='--')\n",
    "axs[0].fill_betweenx(y, x, t_crit_one_tail_greater, \n",
    "                 where= x > t_crit_one_tail_greater,\n",
    "                 color='g')\n",
    "axs[0].legend()\n",
    "axs[0].set_ylim(bottom=0)\n",
    "axs[0].set_title('One-tailed t-test with .05 significance level')\n",
    "\n",
    "\n",
    "# plot for two-tailed t-test\n",
    "axs[1].plot(x, y, color='black')\n",
    "\n",
    "# add .05 significance level for a two-tailed t-test\n",
    "axs[1].axvline(t_crit_two_tails_upper, label='upper crtical t-value',\n",
    "          color='purple', linestyle='--')\n",
    "axs[1].fill_betweenx(y, x, t_crit_two_tails_upper, \n",
    "                 where= x > t_crit_two_tails_upper, color='purple')\n",
    "axs[1].axvline(t_crit_two_tails_lower, label='lower critical t-value',\n",
    "          color='blue', linestyle='--')\n",
    "axs[1].fill_betweenx(y, x, t_crit_two_tails_lower, \n",
    "                 where= x < t_crit_two_tails_lower,\n",
    "                color='blue')\n",
    "axs[1].legend()\n",
    "axs[1].set_ylim(bottom=0)\n",
    "axs[1].set_title('Two-tailed t-test with .05 significance level')\n",
    "plt.savefig('images/one_v_two_tailed_t_test.png');"
   ]
  },
  {
   "cell_type": "markdown",
   "metadata": {},
   "source": [
    "## Miniature Goats in Seattle"
   ]
  },
  {
   "cell_type": "code",
   "execution_count": 307,
   "metadata": {},
   "outputs": [],
   "source": [
    "goats = pets.loc[pets['Species'] == 'Goat']"
   ]
  },
  {
   "cell_type": "code",
   "execution_count": 308,
   "metadata": {},
   "outputs": [
    {
     "data": {
      "text/html": [
       "<div>\n",
       "<style scoped>\n",
       "    .dataframe tbody tr th:only-of-type {\n",
       "        vertical-align: middle;\n",
       "    }\n",
       "\n",
       "    .dataframe tbody tr th {\n",
       "        vertical-align: top;\n",
       "    }\n",
       "\n",
       "    .dataframe thead th {\n",
       "        text-align: right;\n",
       "    }\n",
       "</style>\n",
       "<table border=\"1\" class=\"dataframe\">\n",
       "  <thead>\n",
       "    <tr style=\"text-align: right;\">\n",
       "      <th></th>\n",
       "      <th>License Issue Date</th>\n",
       "      <th>License Number</th>\n",
       "      <th>Animal's Name</th>\n",
       "      <th>Species</th>\n",
       "      <th>Primary Breed</th>\n",
       "      <th>Secondary Breed</th>\n",
       "      <th>ZIP Code</th>\n",
       "      <th>time_in_sea</th>\n",
       "    </tr>\n",
       "  </thead>\n",
       "  <tbody>\n",
       "    <tr>\n",
       "      <th>322</th>\n",
       "      <td>2017-07-18</td>\n",
       "      <td>S142812</td>\n",
       "      <td>Nani</td>\n",
       "      <td>Goat</td>\n",
       "      <td>Miniature</td>\n",
       "      <td>NaN</td>\n",
       "      <td>98112</td>\n",
       "      <td>879</td>\n",
       "    </tr>\n",
       "    <tr>\n",
       "      <th>432</th>\n",
       "      <td>2017-08-02</td>\n",
       "      <td>S133784</td>\n",
       "      <td>Beans</td>\n",
       "      <td>Goat</td>\n",
       "      <td>Miniature</td>\n",
       "      <td>NaN</td>\n",
       "      <td>98106</td>\n",
       "      <td>864</td>\n",
       "    </tr>\n",
       "    <tr>\n",
       "      <th>1285</th>\n",
       "      <td>2017-09-22</td>\n",
       "      <td>S136146</td>\n",
       "      <td>Abelard</td>\n",
       "      <td>Goat</td>\n",
       "      <td>Miniature</td>\n",
       "      <td>NaN</td>\n",
       "      <td>98112</td>\n",
       "      <td>813</td>\n",
       "    </tr>\n",
       "    <tr>\n",
       "      <th>1286</th>\n",
       "      <td>2017-09-22</td>\n",
       "      <td>S136147</td>\n",
       "      <td>Olive</td>\n",
       "      <td>Goat</td>\n",
       "      <td>Miniature</td>\n",
       "      <td>NaN</td>\n",
       "      <td>98112</td>\n",
       "      <td>813</td>\n",
       "    </tr>\n",
       "    <tr>\n",
       "      <th>1885</th>\n",
       "      <td>2017-10-26</td>\n",
       "      <td>S137110</td>\n",
       "      <td>Piper</td>\n",
       "      <td>Goat</td>\n",
       "      <td>Miniature</td>\n",
       "      <td>NaN</td>\n",
       "      <td>98125</td>\n",
       "      <td>779</td>\n",
       "    </tr>\n",
       "  </tbody>\n",
       "</table>\n",
       "</div>"
      ],
      "text/plain": [
       "     License Issue Date License Number Animal's Name Species Primary Breed  \\\n",
       "322          2017-07-18        S142812          Nani    Goat     Miniature   \n",
       "432          2017-08-02        S133784         Beans    Goat     Miniature   \n",
       "1285         2017-09-22        S136146       Abelard    Goat     Miniature   \n",
       "1286         2017-09-22        S136147         Olive    Goat     Miniature   \n",
       "1885         2017-10-26        S137110         Piper    Goat     Miniature   \n",
       "\n",
       "     Secondary Breed  ZIP Code  time_in_sea  \n",
       "322              NaN     98112          879  \n",
       "432              NaN     98106          864  \n",
       "1285             NaN     98112          813  \n",
       "1286             NaN     98112          813  \n",
       "1885             NaN     98125          779  "
      ]
     },
     "execution_count": 308,
     "metadata": {},
     "output_type": "execute_result"
    }
   ],
   "source": [
    "goats.head()"
   ]
  },
  {
   "cell_type": "code",
   "execution_count": 309,
   "metadata": {},
   "outputs": [
    {
     "data": {
      "text/html": [
       "<div>\n",
       "<style scoped>\n",
       "    .dataframe tbody tr th:only-of-type {\n",
       "        vertical-align: middle;\n",
       "    }\n",
       "\n",
       "    .dataframe tbody tr th {\n",
       "        vertical-align: top;\n",
       "    }\n",
       "\n",
       "    .dataframe thead th {\n",
       "        text-align: right;\n",
       "    }\n",
       "</style>\n",
       "<table border=\"1\" class=\"dataframe\">\n",
       "  <thead>\n",
       "    <tr style=\"text-align: right;\">\n",
       "      <th></th>\n",
       "      <th>ZIP</th>\n",
       "      <th>goats</th>\n",
       "    </tr>\n",
       "  </thead>\n",
       "  <tbody>\n",
       "    <tr>\n",
       "      <th>0</th>\n",
       "      <td>98108</td>\n",
       "      <td>5</td>\n",
       "    </tr>\n",
       "    <tr>\n",
       "      <th>1</th>\n",
       "      <td>98115</td>\n",
       "      <td>5</td>\n",
       "    </tr>\n",
       "    <tr>\n",
       "      <th>2</th>\n",
       "      <td>98133</td>\n",
       "      <td>4</td>\n",
       "    </tr>\n",
       "    <tr>\n",
       "      <th>3</th>\n",
       "      <td>98125</td>\n",
       "      <td>4</td>\n",
       "    </tr>\n",
       "    <tr>\n",
       "      <th>4</th>\n",
       "      <td>98112</td>\n",
       "      <td>4</td>\n",
       "    </tr>\n",
       "    <tr>\n",
       "      <th>5</th>\n",
       "      <td>98106</td>\n",
       "      <td>3</td>\n",
       "    </tr>\n",
       "    <tr>\n",
       "      <th>6</th>\n",
       "      <td>98122</td>\n",
       "      <td>3</td>\n",
       "    </tr>\n",
       "    <tr>\n",
       "      <th>7</th>\n",
       "      <td>98118</td>\n",
       "      <td>3</td>\n",
       "    </tr>\n",
       "    <tr>\n",
       "      <th>8</th>\n",
       "      <td>98117</td>\n",
       "      <td>2</td>\n",
       "    </tr>\n",
       "    <tr>\n",
       "      <th>9</th>\n",
       "      <td>98178</td>\n",
       "      <td>2</td>\n",
       "    </tr>\n",
       "    <tr>\n",
       "      <th>10</th>\n",
       "      <td>98177</td>\n",
       "      <td>2</td>\n",
       "    </tr>\n",
       "    <tr>\n",
       "      <th>11</th>\n",
       "      <td>98144</td>\n",
       "      <td>1</td>\n",
       "    </tr>\n",
       "  </tbody>\n",
       "</table>\n",
       "</div>"
      ],
      "text/plain": [
       "      ZIP  goats\n",
       "0   98108      5\n",
       "1   98115      5\n",
       "2   98133      4\n",
       "3   98125      4\n",
       "4   98112      4\n",
       "5   98106      3\n",
       "6   98122      3\n",
       "7   98118      3\n",
       "8   98117      2\n",
       "9   98178      2\n",
       "10  98177      2\n",
       "11  98144      1"
      ]
     },
     "execution_count": 309,
     "metadata": {},
     "output_type": "execute_result"
    }
   ],
   "source": [
    "goat_zip_counts = pd.DataFrame(goats['ZIP Code'].value_counts())\n",
    "goat_zip_counts = goat_zip_counts.reset_index()\n",
    "goat_zip_counts.columns = ['ZIP', 'goats']\n",
    "goat_zip_counts"
   ]
  },
  {
   "cell_type": "code",
   "execution_count": 310,
   "metadata": {},
   "outputs": [],
   "source": [
    "pets_zips_gdf = pets_zips_gdf.merge(goat_zip_counts, on='ZIP', how='left')"
   ]
  },
  {
   "cell_type": "code",
   "execution_count": 311,
   "metadata": {},
   "outputs": [],
   "source": [
    "pets_zips_gdf['goats'] = pets_zips_gdf['goats'].fillna(0)"
   ]
  },
  {
   "cell_type": "code",
   "execution_count": 332,
   "metadata": {},
   "outputs": [
    {
     "data": {
      "image/png": "[encoded data removed]",
      "text/plain": [
       "<Figure size 720x720 with 2 Axes>"
      ]
     },
     "metadata": {
      "needs_background": "light"
     },
     "output_type": "display_data"
    }
   ],
   "source": [
    "# adding a legend using code from http://geopandas.org/mapping.html\n",
    "from mpl_toolkits.axes_grid1 import make_axes_locatable\n",
    "\n",
    "fig, ax = plt.subplots(figsize=(10,10))\n",
    "divider = make_axes_locatable(ax)\n",
    "cax = divider.append_axes(\"right\", size=\"5%\", pad=0.1)\n",
    "pets_zips_gdf.plot(column='goats', ax=ax, cax=cax, legend=True)\n",
    "ax.set_title('Registered Miniature Goats in Seattle by Zip Code.')\n",
    "plt.savefig('images/goat_map.png');"
   ]
  },
  {
   "cell_type": "code",
   "execution_count": null,
   "metadata": {},
   "outputs": [],
   "source": []
  }
 ],
 "metadata": {
  "kernelspec": {
   "display_name": "Python 3 (geo-env)",
   "language": "python",
   "name": "geo-env"
  },
  "language_info": {
   "codemirror_mode": {
    "name": "ipython",
    "version": 3
   },
   "file_extension": ".py",
   "mimetype": "text/x-python",
   "name": "python",
   "nbconvert_exporter": "python",
   "pygments_lexer": "ipython3",
   "version": "3.7.3"
  }
 },
 "nbformat": 4,
 "nbformat_minor": 2
}
