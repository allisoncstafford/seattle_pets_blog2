{
 "cells": [
  {
   "cell_type": "markdown",
   "metadata": {},
   "source": [
    "# Do Zip Codes with Large Parks have Higher Dog Density than those without? Are the dog and cat populations different ages? \n",
    "## Hypothesis Testing Reminder/Primer with Python's Stats Package, and other things you never thought to ask about registered pets in Seattle"
   ]
  },
  {
   "cell_type": "markdown",
   "metadata": {},
   "source": [
    "## Import necessary packages"
   ]
  },
  {
   "cell_type": "code",
   "execution_count": 13,
   "metadata": {},
   "outputs": [],
   "source": [
    "import geopandas as gpd\n",
    "import pandas as pd\n",
    "%matplotlib inline"
   ]
  },
  {
   "cell_type": "markdown",
   "metadata": {},
   "source": [
    "## Load data from csv\n",
    "\n",
    "Note: seattle_zip_code_pet_density.csv is generated in this[https://github.com/allisonhonold/geospatial_data_blog/blob/master/geospatial_blog.ipynb] jupyter notebook. See below for the conversion from string to shapely geometry"
   ]
  },
  {
   "cell_type": "code",
   "execution_count": 3,
   "metadata": {},
   "outputs": [],
   "source": [
    "pets_zips = pd.read_csv('data/seattle_zip_code_pet_density.csv')\n",
    "pets = pd.read_csv('data/Seattle_Pet_Licenses.csv')"
   ]
  },
  {
   "cell_type": "code",
   "execution_count": 5,
   "metadata": {},
   "outputs": [
    {
     "data": {
      "text/html": [
       "<div>\n",
       "<style scoped>\n",
       "    .dataframe tbody tr th:only-of-type {\n",
       "        vertical-align: middle;\n",
       "    }\n",
       "\n",
       "    .dataframe tbody tr th {\n",
       "        vertical-align: top;\n",
       "    }\n",
       "\n",
       "    .dataframe thead th {\n",
       "        text-align: right;\n",
       "    }\n",
       "</style>\n",
       "<table border=\"1\" class=\"dataframe\">\n",
       "  <thead>\n",
       "    <tr style=\"text-align: right;\">\n",
       "      <th></th>\n",
       "      <th>Unnamed: 0</th>\n",
       "      <th>ZIP</th>\n",
       "      <th>geometry</th>\n",
       "      <th>area</th>\n",
       "      <th>pets</th>\n",
       "      <th>pet_density</th>\n",
       "    </tr>\n",
       "  </thead>\n",
       "  <tbody>\n",
       "    <tr>\n",
       "      <th>0</th>\n",
       "      <td>0</td>\n",
       "      <td>98101</td>\n",
       "      <td>POLYGON ((-122.3278536012117 47.61849675280555...</td>\n",
       "      <td>0.000163</td>\n",
       "      <td>696</td>\n",
       "      <td>4.259932e+06</td>\n",
       "    </tr>\n",
       "    <tr>\n",
       "      <th>1</th>\n",
       "      <td>1</td>\n",
       "      <td>98102</td>\n",
       "      <td>POLYGON ((-122.3123241071172 47.64705007992422...</td>\n",
       "      <td>0.000481</td>\n",
       "      <td>1640</td>\n",
       "      <td>3.412311e+06</td>\n",
       "    </tr>\n",
       "    <tr>\n",
       "      <th>2</th>\n",
       "      <td>2</td>\n",
       "      <td>98112</td>\n",
       "      <td>MULTIPOLYGON (((-122.3068257351625 47.64729480...</td>\n",
       "      <td>0.000981</td>\n",
       "      <td>1895</td>\n",
       "      <td>1.932635e+06</td>\n",
       "    </tr>\n",
       "    <tr>\n",
       "      <th>3</th>\n",
       "      <td>3</td>\n",
       "      <td>98115</td>\n",
       "      <td>POLYGON ((-122.2729415289972 47.70106980982185...</td>\n",
       "      <td>0.002019</td>\n",
       "      <td>4541</td>\n",
       "      <td>2.249664e+06</td>\n",
       "    </tr>\n",
       "    <tr>\n",
       "      <th>4</th>\n",
       "      <td>4</td>\n",
       "      <td>98116</td>\n",
       "      <td>POLYGON ((-122.381388745373 47.59054151926219,...</td>\n",
       "      <td>0.000905</td>\n",
       "      <td>2366</td>\n",
       "      <td>2.615165e+06</td>\n",
       "    </tr>\n",
       "  </tbody>\n",
       "</table>\n",
       "</div>"
      ],
      "text/plain": [
       "   Unnamed: 0    ZIP                                           geometry  \\\n",
       "0           0  98101  POLYGON ((-122.3278536012117 47.61849675280555...   \n",
       "1           1  98102  POLYGON ((-122.3123241071172 47.64705007992422...   \n",
       "2           2  98112  MULTIPOLYGON (((-122.3068257351625 47.64729480...   \n",
       "3           3  98115  POLYGON ((-122.2729415289972 47.70106980982185...   \n",
       "4           4  98116  POLYGON ((-122.381388745373 47.59054151926219,...   \n",
       "\n",
       "       area  pets   pet_density  \n",
       "0  0.000163   696  4.259932e+06  \n",
       "1  0.000481  1640  3.412311e+06  \n",
       "2  0.000981  1895  1.932635e+06  \n",
       "3  0.002019  4541  2.249664e+06  \n",
       "4  0.000905  2366  2.615165e+06  "
      ]
     },
     "execution_count": 5,
     "metadata": {},
     "output_type": "execute_result"
    }
   ],
   "source": [
    "pets_zips.head()"
   ]
  },
  {
   "cell_type": "code",
   "execution_count": 6,
   "metadata": {},
   "outputs": [
    {
     "data": {
      "text/html": [
       "<div>\n",
       "<style scoped>\n",
       "    .dataframe tbody tr th:only-of-type {\n",
       "        vertical-align: middle;\n",
       "    }\n",
       "\n",
       "    .dataframe tbody tr th {\n",
       "        vertical-align: top;\n",
       "    }\n",
       "\n",
       "    .dataframe thead th {\n",
       "        text-align: right;\n",
       "    }\n",
       "</style>\n",
       "<table border=\"1\" class=\"dataframe\">\n",
       "  <thead>\n",
       "    <tr style=\"text-align: right;\">\n",
       "      <th></th>\n",
       "      <th>License Issue Date</th>\n",
       "      <th>License Number</th>\n",
       "      <th>Animal's Name</th>\n",
       "      <th>Species</th>\n",
       "      <th>Primary Breed</th>\n",
       "      <th>Secondary Breed</th>\n",
       "      <th>ZIP Code</th>\n",
       "    </tr>\n",
       "  </thead>\n",
       "  <tbody>\n",
       "    <tr>\n",
       "      <th>0</th>\n",
       "      <td>April 19 2003</td>\n",
       "      <td>200097</td>\n",
       "      <td>Tinkerdelle</td>\n",
       "      <td>Cat</td>\n",
       "      <td>Domestic Shorthair</td>\n",
       "      <td>NaN</td>\n",
       "      <td>98116</td>\n",
       "    </tr>\n",
       "    <tr>\n",
       "      <th>1</th>\n",
       "      <td>February 07 2006</td>\n",
       "      <td>75432</td>\n",
       "      <td>Pepper</td>\n",
       "      <td>Cat</td>\n",
       "      <td>Manx</td>\n",
       "      <td>Mix</td>\n",
       "      <td>98103</td>\n",
       "    </tr>\n",
       "    <tr>\n",
       "      <th>2</th>\n",
       "      <td>May 21 2014</td>\n",
       "      <td>727943</td>\n",
       "      <td>Ashley</td>\n",
       "      <td>Cat</td>\n",
       "      <td>Domestic Shorthair</td>\n",
       "      <td>NaN</td>\n",
       "      <td>98115</td>\n",
       "    </tr>\n",
       "    <tr>\n",
       "      <th>3</th>\n",
       "      <td>May 08 2015</td>\n",
       "      <td>833836</td>\n",
       "      <td>Lulu</td>\n",
       "      <td>Cat</td>\n",
       "      <td>LaPerm</td>\n",
       "      <td>NaN</td>\n",
       "      <td>98136</td>\n",
       "    </tr>\n",
       "    <tr>\n",
       "      <th>4</th>\n",
       "      <td>May 13 2015</td>\n",
       "      <td>361031</td>\n",
       "      <td>My Boy</td>\n",
       "      <td>Cat</td>\n",
       "      <td>Russian Blue</td>\n",
       "      <td>NaN</td>\n",
       "      <td>98121</td>\n",
       "    </tr>\n",
       "  </tbody>\n",
       "</table>\n",
       "</div>"
      ],
      "text/plain": [
       "  License Issue Date License Number Animal's Name Species       Primary Breed  \\\n",
       "0      April 19 2003         200097   Tinkerdelle     Cat  Domestic Shorthair   \n",
       "1   February 07 2006          75432        Pepper     Cat                Manx   \n",
       "2        May 21 2014         727943        Ashley     Cat  Domestic Shorthair   \n",
       "3        May 08 2015         833836          Lulu     Cat              LaPerm   \n",
       "4        May 13 2015         361031        My Boy     Cat        Russian Blue   \n",
       "\n",
       "  Secondary Breed ZIP Code  \n",
       "0             NaN    98116  \n",
       "1             Mix    98103  \n",
       "2             NaN    98115  \n",
       "3             NaN    98136  \n",
       "4             NaN    98121  "
      ]
     },
     "execution_count": 6,
     "metadata": {},
     "output_type": "execute_result"
    }
   ],
   "source": [
    "pets.head()"
   ]
  },
  {
   "cell_type": "markdown",
   "metadata": {},
   "source": [
    "## Import Shape Files for Seattle Parks"
   ]
  },
  {
   "cell_type": "code",
   "execution_count": 8,
   "metadata": {},
   "outputs": [],
   "source": [
    "parks_gdf = gpd.read_file('data/shapes/Seattle_Parks.shp')"
   ]
  },
  {
   "cell_type": "code",
   "execution_count": 74,
   "metadata": {},
   "outputs": [
    {
     "data": {
      "text/html": [
       "<div>\n",
       "<style scoped>\n",
       "    .dataframe tbody tr th:only-of-type {\n",
       "        vertical-align: middle;\n",
       "    }\n",
       "\n",
       "    .dataframe tbody tr th {\n",
       "        vertical-align: top;\n",
       "    }\n",
       "\n",
       "    .dataframe thead th {\n",
       "        text-align: right;\n",
       "    }\n",
       "</style>\n",
       "<table border=\"1\" class=\"dataframe\">\n",
       "  <thead>\n",
       "    <tr style=\"text-align: right;\">\n",
       "      <th></th>\n",
       "      <th>OBJECTID</th>\n",
       "      <th>NAME</th>\n",
       "      <th>PMA_NAME</th>\n",
       "      <th>ADDRESS</th>\n",
       "      <th>PIN</th>\n",
       "      <th>SUBPARCEL</th>\n",
       "      <th>PMA</th>\n",
       "      <th>OWNER</th>\n",
       "      <th>LEASE</th>\n",
       "      <th>MAINT</th>\n",
       "      <th>...</th>\n",
       "      <th>98133</th>\n",
       "      <th>98134</th>\n",
       "      <th>98144</th>\n",
       "      <th>98146</th>\n",
       "      <th>98155</th>\n",
       "      <th>98117</th>\n",
       "      <th>98177</th>\n",
       "      <th>98178</th>\n",
       "      <th>98199</th>\n",
       "      <th>98195</th>\n",
       "    </tr>\n",
       "  </thead>\n",
       "  <tbody>\n",
       "    <tr>\n",
       "      <th>0</th>\n",
       "      <td>1</td>\n",
       "      <td>JACKSON PARK GOLF COURSE</td>\n",
       "      <td>Jackson Park Golf Course</td>\n",
       "      <td>None</td>\n",
       "      <td>5101407870</td>\n",
       "      <td>636.0</td>\n",
       "      <td>327</td>\n",
       "      <td>DPR</td>\n",
       "      <td>N</td>\n",
       "      <td>DPR</td>\n",
       "      <td>...</td>\n",
       "      <td>False</td>\n",
       "      <td>False</td>\n",
       "      <td>False</td>\n",
       "      <td>False</td>\n",
       "      <td>True</td>\n",
       "      <td>False</td>\n",
       "      <td>False</td>\n",
       "      <td>False</td>\n",
       "      <td>False</td>\n",
       "      <td>False</td>\n",
       "    </tr>\n",
       "    <tr>\n",
       "      <th>1</th>\n",
       "      <td>2</td>\n",
       "      <td>BURKE-GILMAN TRAIL</td>\n",
       "      <td>Burke-Gilman Trail</td>\n",
       "      <td>None</td>\n",
       "      <td>2226049009</td>\n",
       "      <td>675.0</td>\n",
       "      <td>476</td>\n",
       "      <td>DPR</td>\n",
       "      <td>N</td>\n",
       "      <td>DPR</td>\n",
       "      <td>...</td>\n",
       "      <td>False</td>\n",
       "      <td>False</td>\n",
       "      <td>False</td>\n",
       "      <td>False</td>\n",
       "      <td>False</td>\n",
       "      <td>False</td>\n",
       "      <td>False</td>\n",
       "      <td>False</td>\n",
       "      <td>False</td>\n",
       "      <td>False</td>\n",
       "    </tr>\n",
       "    <tr>\n",
       "      <th>2</th>\n",
       "      <td>3</td>\n",
       "      <td>LITTLE BROOK PARK</td>\n",
       "      <td>Little Brook Park</td>\n",
       "      <td>None</td>\n",
       "      <td>7663700850</td>\n",
       "      <td>1663.0</td>\n",
       "      <td>297</td>\n",
       "      <td>DPR</td>\n",
       "      <td>N</td>\n",
       "      <td>DPR</td>\n",
       "      <td>...</td>\n",
       "      <td>False</td>\n",
       "      <td>False</td>\n",
       "      <td>False</td>\n",
       "      <td>False</td>\n",
       "      <td>False</td>\n",
       "      <td>False</td>\n",
       "      <td>False</td>\n",
       "      <td>False</td>\n",
       "      <td>False</td>\n",
       "      <td>False</td>\n",
       "    </tr>\n",
       "    <tr>\n",
       "      <th>3</th>\n",
       "      <td>4</td>\n",
       "      <td>HELENE MADISON POOL</td>\n",
       "      <td>Helene Madison Pool</td>\n",
       "      <td>None</td>\n",
       "      <td>1926049035</td>\n",
       "      <td>525.0</td>\n",
       "      <td>285</td>\n",
       "      <td>None</td>\n",
       "      <td>None</td>\n",
       "      <td>DPR</td>\n",
       "      <td>...</td>\n",
       "      <td>True</td>\n",
       "      <td>False</td>\n",
       "      <td>False</td>\n",
       "      <td>False</td>\n",
       "      <td>False</td>\n",
       "      <td>False</td>\n",
       "      <td>False</td>\n",
       "      <td>False</td>\n",
       "      <td>False</td>\n",
       "      <td>False</td>\n",
       "    </tr>\n",
       "    <tr>\n",
       "      <th>4</th>\n",
       "      <td>5</td>\n",
       "      <td>MAGNOLIA BOULEVARD</td>\n",
       "      <td>Magnolia Boulevard</td>\n",
       "      <td>None</td>\n",
       "      <td>2225039999</td>\n",
       "      <td>674.0</td>\n",
       "      <td>2843</td>\n",
       "      <td>DPR</td>\n",
       "      <td>None</td>\n",
       "      <td>DPR</td>\n",
       "      <td>...</td>\n",
       "      <td>False</td>\n",
       "      <td>False</td>\n",
       "      <td>False</td>\n",
       "      <td>False</td>\n",
       "      <td>False</td>\n",
       "      <td>False</td>\n",
       "      <td>False</td>\n",
       "      <td>False</td>\n",
       "      <td>True</td>\n",
       "      <td>False</td>\n",
       "    </tr>\n",
       "  </tbody>\n",
       "</table>\n",
       "<p>5 rows × 49 columns</p>\n",
       "</div>"
      ],
      "text/plain": [
       "   OBJECTID                      NAME                  PMA_NAME ADDRESS  \\\n",
       "0         1  JACKSON PARK GOLF COURSE  Jackson Park Golf Course    None   \n",
       "1         2        BURKE-GILMAN TRAIL        Burke-Gilman Trail    None   \n",
       "2         3         LITTLE BROOK PARK         Little Brook Park    None   \n",
       "3         4       HELENE MADISON POOL       Helene Madison Pool    None   \n",
       "4         5        MAGNOLIA BOULEVARD        Magnolia Boulevard    None   \n",
       "\n",
       "          PIN  SUBPARCEL   PMA OWNER LEASE MAINT  ...  98133  98134  98144  \\\n",
       "0  5101407870      636.0   327   DPR     N   DPR  ...  False  False  False   \n",
       "1  2226049009      675.0   476   DPR     N   DPR  ...  False  False  False   \n",
       "2  7663700850     1663.0   297   DPR     N   DPR  ...  False  False  False   \n",
       "3  1926049035      525.0   285  None  None   DPR  ...   True  False  False   \n",
       "4  2225039999      674.0  2843   DPR  None   DPR  ...  False  False  False   \n",
       "\n",
       "   98146  98155  98117  98177  98178  98199  98195  \n",
       "0  False   True  False  False  False  False  False  \n",
       "1  False  False  False  False  False  False  False  \n",
       "2  False  False  False  False  False  False  False  \n",
       "3  False  False  False  False  False  False  False  \n",
       "4  False  False  False  False  False   True  False  \n",
       "\n",
       "[5 rows x 49 columns]"
      ]
     },
     "execution_count": 74,
     "metadata": {},
     "output_type": "execute_result"
    }
   ],
   "source": [
    "parks_gdf.head()"
   ]
  },
  {
   "cell_type": "code",
   "execution_count": 27,
   "metadata": {},
   "outputs": [
    {
     "data": {
      "text/plain": [
       "<matplotlib.axes._subplots.AxesSubplot at 0x11d8104a8>"
      ]
     },
     "execution_count": 27,
     "metadata": {},
     "output_type": "execute_result"
    },
    {
     "data": {
      "image/png": "[encoded data removed]",
      "text/plain": [
       "<Figure size 432x288 with 1 Axes>"
      ]
     },
     "metadata": {
      "needs_background": "light"
     },
     "output_type": "display_data"
    }
   ],
   "source": [
    "parks_gdf.plot()"
   ]
  },
  {
   "cell_type": "markdown",
   "metadata": {},
   "source": [
    "## Convert Zip Code geometry from string to shapely / geopandas"
   ]
  },
  {
   "cell_type": "code",
   "execution_count": 23,
   "metadata": {},
   "outputs": [],
   "source": [
    "from shapely import wkt\n",
    "pets_zips['geometry'] = pets_zips['geometry'].apply(wkt.loads)\n",
    "pets_zips_gdf = gpd.GeoDataFrame(pets_zips, geometry='geometry')"
   ]
  },
  {
   "cell_type": "code",
   "execution_count": 26,
   "metadata": {},
   "outputs": [
    {
     "data": {
      "text/plain": [
       "<matplotlib.axes._subplots.AxesSubplot at 0x11d7df940>"
      ]
     },
     "execution_count": 26,
     "metadata": {},
     "output_type": "execute_result"
    },
    {
     "data": {
      "image/png": "[encoded data removed]",
      "text/plain": [
       "<Figure size 432x288 with 1 Axes>"
      ]
     },
     "metadata": {
      "needs_background": "light"
     },
     "output_type": "display_data"
    }
   ],
   "source": [
    "pets_zips_gdf.plot(column='pet_density')"
   ]
  },
  {
   "cell_type": "markdown",
   "metadata": {},
   "source": [
    "## Classify Parks into Zip Codes"
   ]
  },
  {
   "cell_type": "code",
   "execution_count": 94,
   "metadata": {},
   "outputs": [],
   "source": [
    "for zip_code in pets_zips_gdf['ZIP']:\n",
    "    # get the geometry of the zipcode\n",
    "    zip_code_geometry = pets_zips_gdf.loc[pets_zips['ZIP'] == zip_code, 'geometry']\n",
    "    zip_code_geometry = zip_code_geometry.reset_index(drop=True)\n",
    "    \n",
    "    # check if each park is in the zipcode, store result\n",
    "    parks_gdf[str(zip_code)] = parks_gdf.intersects(zip_code_geometry[0])"
   ]
  },
  {
   "cell_type": "code",
   "execution_count": 95,
   "metadata": {},
   "outputs": [
    {
     "data": {
      "text/html": [
       "<div>\n",
       "<style scoped>\n",
       "    .dataframe tbody tr th:only-of-type {\n",
       "        vertical-align: middle;\n",
       "    }\n",
       "\n",
       "    .dataframe tbody tr th {\n",
       "        vertical-align: top;\n",
       "    }\n",
       "\n",
       "    .dataframe thead th {\n",
       "        text-align: right;\n",
       "    }\n",
       "</style>\n",
       "<table border=\"1\" class=\"dataframe\">\n",
       "  <thead>\n",
       "    <tr style=\"text-align: right;\">\n",
       "      <th></th>\n",
       "      <th>0</th>\n",
       "    </tr>\n",
       "  </thead>\n",
       "  <tbody>\n",
       "    <tr>\n",
       "      <th>OBJECTID</th>\n",
       "      <td>1</td>\n",
       "    </tr>\n",
       "    <tr>\n",
       "      <th>NAME</th>\n",
       "      <td>JACKSON PARK GOLF COURSE</td>\n",
       "    </tr>\n",
       "    <tr>\n",
       "      <th>PMA_NAME</th>\n",
       "      <td>Jackson Park Golf Course</td>\n",
       "    </tr>\n",
       "    <tr>\n",
       "      <th>ADDRESS</th>\n",
       "      <td>None</td>\n",
       "    </tr>\n",
       "    <tr>\n",
       "      <th>PIN</th>\n",
       "      <td>5101407870</td>\n",
       "    </tr>\n",
       "    <tr>\n",
       "      <th>...</th>\n",
       "      <td>...</td>\n",
       "    </tr>\n",
       "    <tr>\n",
       "      <th>98117</th>\n",
       "      <td>False</td>\n",
       "    </tr>\n",
       "    <tr>\n",
       "      <th>98177</th>\n",
       "      <td>False</td>\n",
       "    </tr>\n",
       "    <tr>\n",
       "      <th>98178</th>\n",
       "      <td>False</td>\n",
       "    </tr>\n",
       "    <tr>\n",
       "      <th>98199</th>\n",
       "      <td>False</td>\n",
       "    </tr>\n",
       "    <tr>\n",
       "      <th>98195</th>\n",
       "      <td>False</td>\n",
       "    </tr>\n",
       "  </tbody>\n",
       "</table>\n",
       "<p>78 rows × 1 columns</p>\n",
       "</div>"
      ],
      "text/plain": [
       "                                 0\n",
       "OBJECTID                         1\n",
       "NAME      JACKSON PARK GOLF COURSE\n",
       "PMA_NAME  Jackson Park Golf Course\n",
       "ADDRESS                       None\n",
       "PIN                     5101407870\n",
       "...                            ...\n",
       "98117                        False\n",
       "98177                        False\n",
       "98178                        False\n",
       "98199                        False\n",
       "98195                        False\n",
       "\n",
       "[78 rows x 1 columns]"
      ]
     },
     "execution_count": 95,
     "metadata": {},
     "output_type": "execute_result"
    }
   ],
   "source": [
    "parks_gdf.head(1).T"
   ]
  },
  {
   "cell_type": "markdown",
   "metadata": {},
   "source": [
    "## Decide on \"Large Park\" Boundary and Get \"large parks\" zipcodes\n",
    "\n",
    "Ravenna park's size: 50 acres"
   ]
  },
  {
   "cell_type": "code",
   "execution_count": 96,
   "metadata": {},
   "outputs": [],
   "source": [
    "ravenna_park = parks_gdf.loc[parks_gdf['NAME'] == 'RAVENNA PARK']\n",
    "large_park_area = ravenna_park['SHAPE_Area'].sum()"
   ]
  },
  {
   "cell_type": "code",
   "execution_count": 97,
   "metadata": {},
   "outputs": [],
   "source": [
    "large_parks = parks_gdf.loc[parks_gdf['SHAPE_Area']>= large_park_area]"
   ]
  },
  {
   "cell_type": "code",
   "execution_count": 98,
   "metadata": {},
   "outputs": [
    {
     "data": {
      "text/html": [
       "<div>\n",
       "<style scoped>\n",
       "    .dataframe tbody tr th:only-of-type {\n",
       "        vertical-align: middle;\n",
       "    }\n",
       "\n",
       "    .dataframe tbody tr th {\n",
       "        vertical-align: top;\n",
       "    }\n",
       "\n",
       "    .dataframe thead th {\n",
       "        text-align: right;\n",
       "    }\n",
       "</style>\n",
       "<table border=\"1\" class=\"dataframe\">\n",
       "  <thead>\n",
       "    <tr style=\"text-align: right;\">\n",
       "      <th></th>\n",
       "      <th>0</th>\n",
       "    </tr>\n",
       "  </thead>\n",
       "  <tbody>\n",
       "    <tr>\n",
       "      <th>OBJECTID</th>\n",
       "      <td>1</td>\n",
       "    </tr>\n",
       "    <tr>\n",
       "      <th>NAME</th>\n",
       "      <td>JACKSON PARK GOLF COURSE</td>\n",
       "    </tr>\n",
       "    <tr>\n",
       "      <th>PMA_NAME</th>\n",
       "      <td>Jackson Park Golf Course</td>\n",
       "    </tr>\n",
       "    <tr>\n",
       "      <th>ADDRESS</th>\n",
       "      <td>None</td>\n",
       "    </tr>\n",
       "    <tr>\n",
       "      <th>PIN</th>\n",
       "      <td>5101407870</td>\n",
       "    </tr>\n",
       "    <tr>\n",
       "      <th>...</th>\n",
       "      <td>...</td>\n",
       "    </tr>\n",
       "    <tr>\n",
       "      <th>98117</th>\n",
       "      <td>False</td>\n",
       "    </tr>\n",
       "    <tr>\n",
       "      <th>98177</th>\n",
       "      <td>False</td>\n",
       "    </tr>\n",
       "    <tr>\n",
       "      <th>98178</th>\n",
       "      <td>False</td>\n",
       "    </tr>\n",
       "    <tr>\n",
       "      <th>98199</th>\n",
       "      <td>False</td>\n",
       "    </tr>\n",
       "    <tr>\n",
       "      <th>98195</th>\n",
       "      <td>False</td>\n",
       "    </tr>\n",
       "  </tbody>\n",
       "</table>\n",
       "<p>78 rows × 1 columns</p>\n",
       "</div>"
      ],
      "text/plain": [
       "                                 0\n",
       "OBJECTID                         1\n",
       "NAME      JACKSON PARK GOLF COURSE\n",
       "PMA_NAME  Jackson Park Golf Course\n",
       "ADDRESS                       None\n",
       "PIN                     5101407870\n",
       "...                            ...\n",
       "98117                        False\n",
       "98177                        False\n",
       "98178                        False\n",
       "98199                        False\n",
       "98195                        False\n",
       "\n",
       "[78 rows x 1 columns]"
      ]
     },
     "execution_count": 98,
     "metadata": {},
     "output_type": "execute_result"
    }
   ],
   "source": [
    "large_parks.head(1).T"
   ]
  },
  {
   "cell_type": "code",
   "execution_count": 110,
   "metadata": {},
   "outputs": [],
   "source": [
    "parks_in_zips = {zip_code: large_parks[str(zip_code)].sum() for zip_code in pets_zips_gdf['ZIP']}"
   ]
  },
  {
   "cell_type": "code",
   "execution_count": 111,
   "metadata": {},
   "outputs": [
    {
     "data": {
      "text/plain": [
       "{98101: 0,\n",
       " 98102: 0,\n",
       " 98112: 1,\n",
       " 98115: 2,\n",
       " 98116: 1,\n",
       " 98136: 1,\n",
       " 98103: 3,\n",
       " 98104: 0,\n",
       " 98105: 0,\n",
       " 98106: 2,\n",
       " 98107: 0,\n",
       " 98108: 2,\n",
       " 98109: 0,\n",
       " 98118: 4,\n",
       " 98119: 0,\n",
       " 98121: 0,\n",
       " 98122: 0,\n",
       " 98125: 1,\n",
       " 98126: 2,\n",
       " 98133: 0,\n",
       " 98134: 0,\n",
       " 98144: 1,\n",
       " 98146: 0,\n",
       " 98155: 1,\n",
       " 98117: 0,\n",
       " 98177: 2,\n",
       " 98178: 0,\n",
       " 98199: 3,\n",
       " 98195: 0}"
      ]
     },
     "execution_count": 111,
     "metadata": {},
     "output_type": "execute_result"
    }
   ],
   "source": [
    "parks_in_zips"
   ]
  },
  {
   "cell_type": "code",
   "execution_count": 115,
   "metadata": {},
   "outputs": [],
   "source": [
    "no_parks_zips = [zip_code for zip_code in parks_in_zips.keys() if parks_in_zips[zip_code]==0]"
   ]
  },
  {
   "cell_type": "code",
   "execution_count": 116,
   "metadata": {},
   "outputs": [],
   "source": [
    "parks_zips = [zip_code for zip_code in parks_in_zips.keys() if parks_in_zips[zip_code]>0]"
   ]
  },
  {
   "cell_type": "markdown",
   "metadata": {},
   "source": [
    "## Calculate Dog Density"
   ]
  },
  {
   "cell_type": "code",
   "execution_count": null,
   "metadata": {},
   "outputs": [],
   "source": []
  },
  {
   "cell_type": "markdown",
   "metadata": {},
   "source": [
    "## Hypothesis Testing"
   ]
  },
  {
   "cell_type": "code",
   "execution_count": null,
   "metadata": {},
   "outputs": [],
   "source": [
    "park_zips_dogs = "
   ]
  },
  {
   "cell_type": "code",
   "execution_count": null,
   "metadata": {},
   "outputs": [],
   "source": [
    "no_park_zips_dogs = "
   ]
  },
  {
   "cell_type": "code",
   "execution_count": null,
   "metadata": {},
   "outputs": [],
   "source": []
  },
  {
   "cell_type": "code",
   "execution_count": null,
   "metadata": {},
   "outputs": [],
   "source": []
  },
  {
   "cell_type": "markdown",
   "metadata": {},
   "source": [
    "## Other Fun Facts"
   ]
  },
  {
   "cell_type": "markdown",
   "metadata": {},
   "source": [
    "### Histogram of Pet Names"
   ]
  },
  {
   "cell_type": "code",
   "execution_count": null,
   "metadata": {},
   "outputs": [],
   "source": []
  },
  {
   "cell_type": "markdown",
   "metadata": {},
   "source": [
    "### Top Dog Names vs. Top Cat Names vs. Highest overlapping cat and dog names"
   ]
  },
  {
   "cell_type": "code",
   "execution_count": null,
   "metadata": {},
   "outputs": [],
   "source": []
  },
  {
   "cell_type": "markdown",
   "metadata": {},
   "source": [
    "### Top Cat Breeds, Top Dog Breeds"
   ]
  },
  {
   "cell_type": "code",
   "execution_count": null,
   "metadata": {},
   "outputs": [],
   "source": []
  },
  {
   "cell_type": "markdown",
   "metadata": {},
   "source": [
    "### Non-standard animal locations"
   ]
  },
  {
   "cell_type": "code",
   "execution_count": null,
   "metadata": {},
   "outputs": [],
   "source": []
  },
  {
   "cell_type": "markdown",
   "metadata": {},
   "source": [
    "### Longtime pet residents"
   ]
  },
  {
   "cell_type": "code",
   "execution_count": null,
   "metadata": {},
   "outputs": [],
   "source": []
  },
  {
   "cell_type": "code",
   "execution_count": null,
   "metadata": {},
   "outputs": [],
   "source": []
  }
 ],
 "metadata": {
  "kernelspec": {
   "display_name": "Python 3 (geo-env)",
   "language": "python",
   "name": "geo-env"
  },
  "language_info": {
   "codemirror_mode": {
    "name": "ipython",
    "version": 3
   },
   "file_extension": ".py",
   "mimetype": "text/x-python",
   "name": "python",
   "nbconvert_exporter": "python",
   "pygments_lexer": "ipython3",
   "version": "3.7.3"
  }
 },
 "nbformat": 4,
 "nbformat_minor": 2
}
